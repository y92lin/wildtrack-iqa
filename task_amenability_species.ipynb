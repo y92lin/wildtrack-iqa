{
  "cells": [
    {
      "cell_type": "markdown",
      "metadata": {
        "id": "view-in-github",
        "colab_type": "text"
      },
      "source": [
        "<a href=\"https://colab.research.google.com/github/YolandaMDavis/wildtrack-iqa/blob/task-amenability/task_amenability_species.ipynb\" target=\"_parent\"><img src=\"https://colab.research.google.com/assets/colab-badge.svg\" alt=\"Open In Colab\"/></a>"
      ]
    },
    {
      "cell_type": "code",
      "execution_count": 1,
      "metadata": {
        "colab": {
          "base_uri": "https://localhost:8080/"
        },
        "id": "vSVzE5j73Zsf",
        "outputId": "9a6ceee4-eee2-4933-c75e-b9c71168fa37"
      },
      "outputs": [
        {
          "output_type": "stream",
          "name": "stdout",
          "text": [
            "Looking in indexes: https://pypi.org/simple, https://us-python.pkg.dev/colab-wheels/public/simple/\n",
            "Collecting gym==0.17.3\n",
            "  Downloading gym-0.17.3.tar.gz (1.6 MB)\n",
            "\u001b[K     |████████████████████████████████| 1.6 MB 30.3 MB/s \n",
            "\u001b[?25hRequirement already satisfied: scipy in /usr/local/lib/python3.7/dist-packages (from gym==0.17.3) (1.7.3)\n",
            "Requirement already satisfied: numpy>=1.10.4 in /usr/local/lib/python3.7/dist-packages (from gym==0.17.3) (1.21.6)\n",
            "Collecting pyglet<=1.5.0,>=1.4.0\n",
            "  Downloading pyglet-1.5.0-py2.py3-none-any.whl (1.0 MB)\n",
            "\u001b[K     |████████████████████████████████| 1.0 MB 59.6 MB/s \n",
            "\u001b[?25hRequirement already satisfied: cloudpickle<1.7.0,>=1.2.0 in /usr/local/lib/python3.7/dist-packages (from gym==0.17.3) (1.5.0)\n",
            "Requirement already satisfied: future in /usr/local/lib/python3.7/dist-packages (from pyglet<=1.5.0,>=1.4.0->gym==0.17.3) (0.16.0)\n",
            "Building wheels for collected packages: gym\n",
            "  Building wheel for gym (setup.py) ... \u001b[?25l\u001b[?25hdone\n",
            "  Created wheel for gym: filename=gym-0.17.3-py3-none-any.whl size=1654653 sha256=16fb4cc9917ac5dbb03d674151bcbf6a727a49830934640a724791aa6de84683\n",
            "  Stored in directory: /root/.cache/pip/wheels/d1/81/4b/dd9c029691022cb957398d1f015e66b75e37637dda61abdf58\n",
            "Successfully built gym\n",
            "Installing collected packages: pyglet, gym\n",
            "  Attempting uninstall: gym\n",
            "    Found existing installation: gym 0.25.2\n",
            "    Uninstalling gym-0.25.2:\n",
            "      Successfully uninstalled gym-0.25.2\n",
            "Successfully installed gym-0.17.3 pyglet-1.5.0\n",
            "Looking in indexes: https://pypi.org/simple, https://us-python.pkg.dev/colab-wheels/public/simple/\n",
            "Collecting stable-baselines==2.10.2\n",
            "  Downloading stable_baselines-2.10.2-py3-none-any.whl (240 kB)\n",
            "\u001b[K     |████████████████████████████████| 240 kB 35.0 MB/s \n",
            "\u001b[?25hRequirement already satisfied: matplotlib in /usr/local/lib/python3.7/dist-packages (from stable-baselines==2.10.2) (3.2.2)\n",
            "Requirement already satisfied: joblib in /usr/local/lib/python3.7/dist-packages (from stable-baselines==2.10.2) (1.2.0)\n",
            "Requirement already satisfied: numpy in /usr/local/lib/python3.7/dist-packages (from stable-baselines==2.10.2) (1.21.6)\n",
            "Requirement already satisfied: cloudpickle>=0.5.5 in /usr/local/lib/python3.7/dist-packages (from stable-baselines==2.10.2) (1.5.0)\n",
            "Requirement already satisfied: opencv-python in /usr/local/lib/python3.7/dist-packages (from stable-baselines==2.10.2) (4.6.0.66)\n",
            "Requirement already satisfied: scipy in /usr/local/lib/python3.7/dist-packages (from stable-baselines==2.10.2) (1.7.3)\n",
            "Requirement already satisfied: gym[atari,classic_control]>=0.11 in /usr/local/lib/python3.7/dist-packages (from stable-baselines==2.10.2) (0.17.3)\n",
            "Requirement already satisfied: pandas in /usr/local/lib/python3.7/dist-packages (from stable-baselines==2.10.2) (1.3.5)\n",
            "Requirement already satisfied: pyglet<=1.5.0,>=1.4.0 in /usr/local/lib/python3.7/dist-packages (from gym[atari,classic_control]>=0.11->stable-baselines==2.10.2) (1.5.0)\n",
            "Requirement already satisfied: atari-py~=0.2.0 in /usr/local/lib/python3.7/dist-packages (from gym[atari,classic_control]>=0.11->stable-baselines==2.10.2) (0.2.9)\n",
            "Requirement already satisfied: Pillow in /usr/local/lib/python3.7/dist-packages (from gym[atari,classic_control]>=0.11->stable-baselines==2.10.2) (7.1.2)\n",
            "Requirement already satisfied: six in /usr/local/lib/python3.7/dist-packages (from atari-py~=0.2.0->gym[atari,classic_control]>=0.11->stable-baselines==2.10.2) (1.15.0)\n",
            "Requirement already satisfied: future in /usr/local/lib/python3.7/dist-packages (from pyglet<=1.5.0,>=1.4.0->gym[atari,classic_control]>=0.11->stable-baselines==2.10.2) (0.16.0)\n",
            "Requirement already satisfied: kiwisolver>=1.0.1 in /usr/local/lib/python3.7/dist-packages (from matplotlib->stable-baselines==2.10.2) (1.4.4)\n",
            "Requirement already satisfied: cycler>=0.10 in /usr/local/lib/python3.7/dist-packages (from matplotlib->stable-baselines==2.10.2) (0.11.0)\n",
            "Requirement already satisfied: python-dateutil>=2.1 in /usr/local/lib/python3.7/dist-packages (from matplotlib->stable-baselines==2.10.2) (2.8.2)\n",
            "Requirement already satisfied: pyparsing!=2.0.4,!=2.1.2,!=2.1.6,>=2.0.1 in /usr/local/lib/python3.7/dist-packages (from matplotlib->stable-baselines==2.10.2) (3.0.9)\n",
            "Requirement already satisfied: typing-extensions in /usr/local/lib/python3.7/dist-packages (from kiwisolver>=1.0.1->matplotlib->stable-baselines==2.10.2) (4.1.1)\n",
            "Requirement already satisfied: pytz>=2017.3 in /usr/local/lib/python3.7/dist-packages (from pandas->stable-baselines==2.10.2) (2022.4)\n",
            "Installing collected packages: stable-baselines\n",
            "Successfully installed stable-baselines-2.10.2\n",
            "Looking in indexes: https://pypi.org/simple, https://us-python.pkg.dev/colab-wheels/public/simple/\n",
            "Collecting h5py==3.0.0\n",
            "  Downloading h5py-3.0.0-cp37-cp37m-manylinux1_x86_64.whl (4.0 MB)\n",
            "\u001b[K     |████████████████████████████████| 4.0 MB 32.9 MB/s \n",
            "\u001b[?25hRequirement already satisfied: numpy>=1.14.5 in /usr/local/lib/python3.7/dist-packages (from h5py==3.0.0) (1.21.6)\n",
            "Requirement already satisfied: cached-property in /usr/local/lib/python3.7/dist-packages (from h5py==3.0.0) (1.5.2)\n",
            "Installing collected packages: h5py\n",
            "  Attempting uninstall: h5py\n",
            "    Found existing installation: h5py 3.1.0\n",
            "    Uninstalling h5py-3.1.0:\n",
            "      Successfully uninstalled h5py-3.1.0\n",
            "Successfully installed h5py-3.0.0\n",
            "Looking in indexes: https://pypi.org/simple, https://us-python.pkg.dev/colab-wheels/public/simple/\n",
            "Collecting tensorflow==1.13.1\n",
            "  Downloading tensorflow-1.13.1-cp37-cp37m-manylinux1_x86_64.whl (92.6 MB)\n",
            "\u001b[K     |████████████████████████████████| 92.6 MB 138 kB/s \n",
            "\u001b[?25hRequirement already satisfied: termcolor>=1.1.0 in /usr/local/lib/python3.7/dist-packages (from tensorflow==1.13.1) (2.0.1)\n",
            "Collecting keras-applications>=1.0.6\n",
            "  Downloading Keras_Applications-1.0.8-py3-none-any.whl (50 kB)\n",
            "\u001b[K     |████████████████████████████████| 50 kB 7.8 MB/s \n",
            "\u001b[?25hRequirement already satisfied: gast>=0.2.0 in /usr/local/lib/python3.7/dist-packages (from tensorflow==1.13.1) (0.4.0)\n",
            "Requirement already satisfied: keras-preprocessing>=1.0.5 in /usr/local/lib/python3.7/dist-packages (from tensorflow==1.13.1) (1.1.2)\n",
            "Requirement already satisfied: astor>=0.6.0 in /usr/local/lib/python3.7/dist-packages (from tensorflow==1.13.1) (0.8.1)\n",
            "Requirement already satisfied: absl-py>=0.1.6 in /usr/local/lib/python3.7/dist-packages (from tensorflow==1.13.1) (1.3.0)\n",
            "Requirement already satisfied: numpy>=1.13.3 in /usr/local/lib/python3.7/dist-packages (from tensorflow==1.13.1) (1.21.6)\n",
            "Collecting tensorboard<1.14.0,>=1.13.0\n",
            "  Downloading tensorboard-1.13.1-py3-none-any.whl (3.2 MB)\n",
            "\u001b[K     |████████████████████████████████| 3.2 MB 71.9 MB/s \n",
            "\u001b[?25hRequirement already satisfied: grpcio>=1.8.6 in /usr/local/lib/python3.7/dist-packages (from tensorflow==1.13.1) (1.49.1)\n",
            "Requirement already satisfied: wheel>=0.26 in /usr/local/lib/python3.7/dist-packages (from tensorflow==1.13.1) (0.37.1)\n",
            "Requirement already satisfied: six>=1.10.0 in /usr/local/lib/python3.7/dist-packages (from tensorflow==1.13.1) (1.15.0)\n",
            "Collecting tensorflow-estimator<1.14.0rc0,>=1.13.0\n",
            "  Downloading tensorflow_estimator-1.13.0-py2.py3-none-any.whl (367 kB)\n",
            "\u001b[K     |████████████████████████████████| 367 kB 87.6 MB/s \n",
            "\u001b[?25hRequirement already satisfied: protobuf>=3.6.1 in /usr/local/lib/python3.7/dist-packages (from tensorflow==1.13.1) (3.17.3)\n",
            "Requirement already satisfied: h5py in /usr/local/lib/python3.7/dist-packages (from keras-applications>=1.0.6->tensorflow==1.13.1) (3.0.0)\n",
            "Requirement already satisfied: markdown>=2.6.8 in /usr/local/lib/python3.7/dist-packages (from tensorboard<1.14.0,>=1.13.0->tensorflow==1.13.1) (3.4.1)\n",
            "Requirement already satisfied: werkzeug>=0.11.15 in /usr/local/lib/python3.7/dist-packages (from tensorboard<1.14.0,>=1.13.0->tensorflow==1.13.1) (1.0.1)\n",
            "Requirement already satisfied: importlib-metadata>=4.4 in /usr/local/lib/python3.7/dist-packages (from markdown>=2.6.8->tensorboard<1.14.0,>=1.13.0->tensorflow==1.13.1) (4.13.0)\n",
            "Requirement already satisfied: typing-extensions>=3.6.4 in /usr/local/lib/python3.7/dist-packages (from importlib-metadata>=4.4->markdown>=2.6.8->tensorboard<1.14.0,>=1.13.0->tensorflow==1.13.1) (4.1.1)\n",
            "Requirement already satisfied: zipp>=0.5 in /usr/local/lib/python3.7/dist-packages (from importlib-metadata>=4.4->markdown>=2.6.8->tensorboard<1.14.0,>=1.13.0->tensorflow==1.13.1) (3.9.0)\n",
            "Collecting mock>=2.0.0\n",
            "  Downloading mock-4.0.3-py3-none-any.whl (28 kB)\n",
            "Requirement already satisfied: cached-property in /usr/local/lib/python3.7/dist-packages (from h5py->keras-applications>=1.0.6->tensorflow==1.13.1) (1.5.2)\n",
            "Installing collected packages: mock, tensorflow-estimator, tensorboard, keras-applications, tensorflow\n",
            "  Attempting uninstall: tensorflow-estimator\n",
            "    Found existing installation: tensorflow-estimator 2.9.0\n",
            "    Uninstalling tensorflow-estimator-2.9.0:\n",
            "      Successfully uninstalled tensorflow-estimator-2.9.0\n",
            "  Attempting uninstall: tensorboard\n",
            "    Found existing installation: tensorboard 2.9.1\n",
            "    Uninstalling tensorboard-2.9.1:\n",
            "      Successfully uninstalled tensorboard-2.9.1\n",
            "  Attempting uninstall: tensorflow\n",
            "    Found existing installation: tensorflow 2.9.2\n",
            "    Uninstalling tensorflow-2.9.2:\n",
            "      Successfully uninstalled tensorflow-2.9.2\n",
            "\u001b[31mERROR: pip's dependency resolver does not currently take into account all the packages that are installed. This behaviour is the source of the following dependency conflicts.\n",
            "kapre 0.3.7 requires tensorflow>=2.0.0, but you have tensorflow 1.13.1 which is incompatible.\u001b[0m\n",
            "Successfully installed keras-applications-1.0.8 mock-4.0.3 tensorboard-1.13.1 tensorflow-1.13.1 tensorflow-estimator-1.13.0\n",
            "Looking in indexes: https://pypi.org/simple, https://us-python.pkg.dev/colab-wheels/public/simple/\n",
            "Requirement already satisfied: tensorboard==1.13.1 in /usr/local/lib/python3.7/dist-packages (1.13.1)\n",
            "Requirement already satisfied: grpcio>=1.6.3 in /usr/local/lib/python3.7/dist-packages (from tensorboard==1.13.1) (1.49.1)\n",
            "Requirement already satisfied: werkzeug>=0.11.15 in /usr/local/lib/python3.7/dist-packages (from tensorboard==1.13.1) (1.0.1)\n",
            "Requirement already satisfied: wheel>=0.26 in /usr/local/lib/python3.7/dist-packages (from tensorboard==1.13.1) (0.37.1)\n",
            "Requirement already satisfied: numpy>=1.12.0 in /usr/local/lib/python3.7/dist-packages (from tensorboard==1.13.1) (1.21.6)\n",
            "Requirement already satisfied: markdown>=2.6.8 in /usr/local/lib/python3.7/dist-packages (from tensorboard==1.13.1) (3.4.1)\n",
            "Requirement already satisfied: six>=1.10.0 in /usr/local/lib/python3.7/dist-packages (from tensorboard==1.13.1) (1.15.0)\n",
            "Requirement already satisfied: protobuf>=3.6.0 in /usr/local/lib/python3.7/dist-packages (from tensorboard==1.13.1) (3.17.3)\n",
            "Requirement already satisfied: absl-py>=0.4 in /usr/local/lib/python3.7/dist-packages (from tensorboard==1.13.1) (1.3.0)\n",
            "Requirement already satisfied: importlib-metadata>=4.4 in /usr/local/lib/python3.7/dist-packages (from markdown>=2.6.8->tensorboard==1.13.1) (4.13.0)\n",
            "Requirement already satisfied: typing-extensions>=3.6.4 in /usr/local/lib/python3.7/dist-packages (from importlib-metadata>=4.4->markdown>=2.6.8->tensorboard==1.13.1) (4.1.1)\n",
            "Requirement already satisfied: zipp>=0.5 in /usr/local/lib/python3.7/dist-packages (from importlib-metadata>=4.4->markdown>=2.6.8->tensorboard==1.13.1) (3.9.0)\n",
            "Looking in indexes: https://pypi.org/simple, https://us-python.pkg.dev/colab-wheels/public/simple/\n",
            "Collecting Keras==2.2.4\n",
            "  Downloading Keras-2.2.4-py2.py3-none-any.whl (312 kB)\n",
            "\u001b[K     |████████████████████████████████| 312 kB 36.1 MB/s \n",
            "\u001b[?25hRequirement already satisfied: keras-applications>=1.0.6 in /usr/local/lib/python3.7/dist-packages (from Keras==2.2.4) (1.0.8)\n",
            "Requirement already satisfied: numpy>=1.9.1 in /usr/local/lib/python3.7/dist-packages (from Keras==2.2.4) (1.21.6)\n",
            "Requirement already satisfied: scipy>=0.14 in /usr/local/lib/python3.7/dist-packages (from Keras==2.2.4) (1.7.3)\n",
            "Requirement already satisfied: h5py in /usr/local/lib/python3.7/dist-packages (from Keras==2.2.4) (3.0.0)\n",
            "Requirement already satisfied: keras-preprocessing>=1.0.5 in /usr/local/lib/python3.7/dist-packages (from Keras==2.2.4) (1.1.2)\n",
            "Requirement already satisfied: pyyaml in /usr/local/lib/python3.7/dist-packages (from Keras==2.2.4) (6.0)\n",
            "Requirement already satisfied: six>=1.9.0 in /usr/local/lib/python3.7/dist-packages (from Keras==2.2.4) (1.15.0)\n",
            "Requirement already satisfied: cached-property in /usr/local/lib/python3.7/dist-packages (from h5py->Keras==2.2.4) (1.5.2)\n",
            "Installing collected packages: Keras\n",
            "  Attempting uninstall: Keras\n",
            "    Found existing installation: keras 2.9.0\n",
            "    Uninstalling keras-2.9.0:\n",
            "      Successfully uninstalled keras-2.9.0\n",
            "Successfully installed Keras-2.2.4\n",
            "Looking in indexes: https://pypi.org/simple, https://us-python.pkg.dev/colab-wheels/public/simple/\n",
            "Requirement already satisfied: Keras-Applications==1.0.8 in /usr/local/lib/python3.7/dist-packages (1.0.8)\n",
            "Requirement already satisfied: h5py in /usr/local/lib/python3.7/dist-packages (from Keras-Applications==1.0.8) (3.0.0)\n",
            "Requirement already satisfied: numpy>=1.9.1 in /usr/local/lib/python3.7/dist-packages (from Keras-Applications==1.0.8) (1.21.6)\n",
            "Requirement already satisfied: cached-property in /usr/local/lib/python3.7/dist-packages (from h5py->Keras-Applications==1.0.8) (1.5.2)\n",
            "Looking in indexes: https://pypi.org/simple, https://us-python.pkg.dev/colab-wheels/public/simple/\n",
            "Requirement already satisfied: Keras-Preprocessing==1.1.2 in /usr/local/lib/python3.7/dist-packages (1.1.2)\n",
            "Requirement already satisfied: numpy>=1.9.1 in /usr/local/lib/python3.7/dist-packages (from Keras-Preprocessing==1.1.2) (1.21.6)\n",
            "Requirement already satisfied: six>=1.9.0 in /usr/local/lib/python3.7/dist-packages (from Keras-Preprocessing==1.1.2) (1.15.0)\n",
            "Looking in indexes: https://pypi.org/simple, https://us-python.pkg.dev/colab-wheels/public/simple/\n",
            "Collecting keras-rl==0.4.2\n",
            "  Downloading keras-rl-0.4.2.tar.gz (40 kB)\n",
            "\u001b[K     |████████████████████████████████| 40 kB 4.3 MB/s \n",
            "\u001b[?25hRequirement already satisfied: keras>=2.0.7 in /usr/local/lib/python3.7/dist-packages (from keras-rl==0.4.2) (2.2.4)\n",
            "Requirement already satisfied: six>=1.9.0 in /usr/local/lib/python3.7/dist-packages (from keras>=2.0.7->keras-rl==0.4.2) (1.15.0)\n",
            "Requirement already satisfied: pyyaml in /usr/local/lib/python3.7/dist-packages (from keras>=2.0.7->keras-rl==0.4.2) (6.0)\n",
            "Requirement already satisfied: keras-preprocessing>=1.0.5 in /usr/local/lib/python3.7/dist-packages (from keras>=2.0.7->keras-rl==0.4.2) (1.1.2)\n",
            "Requirement already satisfied: h5py in /usr/local/lib/python3.7/dist-packages (from keras>=2.0.7->keras-rl==0.4.2) (3.0.0)\n",
            "Requirement already satisfied: numpy>=1.9.1 in /usr/local/lib/python3.7/dist-packages (from keras>=2.0.7->keras-rl==0.4.2) (1.21.6)\n",
            "Requirement already satisfied: scipy>=0.14 in /usr/local/lib/python3.7/dist-packages (from keras>=2.0.7->keras-rl==0.4.2) (1.7.3)\n",
            "Requirement already satisfied: keras-applications>=1.0.6 in /usr/local/lib/python3.7/dist-packages (from keras>=2.0.7->keras-rl==0.4.2) (1.0.8)\n",
            "Requirement already satisfied: cached-property in /usr/local/lib/python3.7/dist-packages (from h5py->keras>=2.0.7->keras-rl==0.4.2) (1.5.2)\n",
            "Building wheels for collected packages: keras-rl\n",
            "  Building wheel for keras-rl (setup.py) ... \u001b[?25l\u001b[?25hdone\n",
            "  Created wheel for keras-rl: filename=keras_rl-0.4.2-py3-none-any.whl size=48378 sha256=ed7afe5dff53e4ba9539b947338ed87434698c7e0b1643da81565d4e2337fb9f\n",
            "  Stored in directory: /root/.cache/pip/wheels/d3/23/e9/278c2e59c322236e2bfdf7c792c16f0b4dec24816d27a3f1e4\n",
            "Successfully built keras-rl\n",
            "Installing collected packages: keras-rl\n",
            "Successfully installed keras-rl-0.4.2\n"
          ]
        }
      ],
      "source": [
        "!pip install gym==0.17.3\n",
        "!pip install stable-baselines==2.10.2\n",
        "!pip install h5py==3.0.0\n",
        "!pip install tensorflow==1.13.1\n",
        "!pip install tensorboard==1.13.1\n",
        "!pip install Keras==2.2.4\n",
        "!pip install Keras-Applications==1.0.8\n",
        "!pip install Keras-Preprocessing==1.1.2\n",
        "!pip install keras-rl==0.4.2"
      ]
    },
    {
      "cell_type": "code",
      "execution_count": 2,
      "metadata": {
        "colab": {
          "base_uri": "https://localhost:8080/",
          "height": 52
        },
        "id": "d4TSq2CVs964",
        "outputId": "553e8ff7-7944-4e8d-ae04-df7265a5a1c4"
      },
      "outputs": [
        {
          "output_type": "stream",
          "name": "stdout",
          "text": [
            "Mounted at /content/drive\n"
          ]
        },
        {
          "output_type": "execute_result",
          "data": {
            "text/plain": [
              "'object_model.pt'"
            ],
            "application/vnd.google.colaboratory.intrinsic+json": {
              "type": "string"
            }
          },
          "metadata": {},
          "execution_count": 2
        }
      ],
      "source": [
        "#Only needed to copy data to local drive can be skipped if zip file is already available in working folder\n",
        "import shutil\n",
        "\n",
        "# mount google drive\n",
        "from google.colab import drive\n",
        "drive.mount('/content/drive') # for google colab. adjust accordingly\n",
        "PARENT_DIR = '/content/drive/MyDrive/Wildtrack Group/IQA' \n",
        "\n",
        "# copy and extract tar file\n",
        "shutil.copy(PARENT_DIR + '/data/Cropped_WildTrack.zip', 'Cropped_WildTrack.zip')\n",
        "\n",
        "# get downstream task model\n",
        "shutil.copy(PARENT_DIR + '/task-amenability/species/model.pt', 'species_model.pt')\n",
        "\n",
        "shutil.copy(PARENT_DIR + '/task-amenability/object/model.pt', 'object_model.pt')\n"
      ]
    },
    {
      "cell_type": "code",
      "execution_count": 3,
      "metadata": {
        "colab": {
          "base_uri": "https://localhost:8080/"
        },
        "id": "UyJm9Cb5t0d8",
        "outputId": "624a7fe7-0352-4b5f-9ecc-71b361758ebe"
      },
      "outputs": [
        {
          "output_type": "stream",
          "name": "stdout",
          "text": [
            "Cloning into 'wildtrack-iqa'...\n",
            "remote: Enumerating objects: 108, done.\u001b[K\n",
            "remote: Counting objects: 100% (108/108), done.\u001b[K\n",
            "remote: Compressing objects: 100% (84/84), done.\u001b[K\n",
            "remote: Total 108 (delta 41), reused 70 (delta 17), pack-reused 0\u001b[K\n",
            "Receiving objects: 100% (108/108), 518.61 KiB | 17.29 MiB/s, done.\n",
            "Resolving deltas: 100% (41/41), done.\n",
            "/content/wildtrack-iqa\n",
            "Branch 'task-amenability' set up to track remote branch 'task-amenability' from 'origin'.\n",
            "Switched to a new branch 'task-amenability'\n"
          ]
        }
      ],
      "source": [
        "# clone the repository and move data file\n",
        "!git clone https://github.com/YolandaMDavis/wildtrack-iqa.git\n",
        "!mv Cropped_WildTrack.zip wildtrack-iqa/.\n",
        "!mv species_model.pt wildtrack-iqa/.\n",
        "!mv object_model.pt wildtrack-iqa/.\n",
        "%cd \"wildtrack-iqa\"\n",
        "!git checkout task-amenability\n",
        "!mv species_model.pt taskamenability/taskpredictor/species/model.pt\n",
        "!mv object_model.pt taskamenability/taskpredictor/objdet/model.pt\n"
      ]
    },
    {
      "cell_type": "code",
      "execution_count": 4,
      "metadata": {
        "id": "Av0a2a-HwCvC"
      },
      "outputs": [],
      "source": [
        "from zipfile import ZipFile\n",
        "# extract zip file\n",
        "with ZipFile('Cropped_WildTrack.zip', 'r') as zipObj:\n",
        "   # Extract all the contents of zip file in current directory\n",
        "   zipObj.extractall()"
      ]
    },
    {
      "cell_type": "code",
      "execution_count": 5,
      "metadata": {
        "id": "WmHIUgZBzneZ"
      },
      "outputs": [],
      "source": [
        "#%cd \"wildtrack-iqa\"\n",
        "\n",
        "import torch\n",
        "import torchvision\n",
        "from PIL import Image\n",
        "import torchvision.transforms as T\n",
        "import matplotlib.pyplot as plt\n",
        "import cv2\n",
        "import json\n",
        "import numpy as np\n",
        "import albumentations as A\n",
        "\n",
        "with open('taskamenability/taskpredictor/species/class_mapping.json') as data:\n",
        "    mappings = json.load(data)\n",
        "\n",
        "class_mapping = {item['model_idx']: item['class_name'] for item in mappings}\n",
        "device = torch.device('cpu')\n",
        "model = torch.jit.load('taskamenability/taskpredictor/species/model.pt').to(device)\n",
        "transforms = A.load('taskamenability/taskpredictor/species/transforms.json')"
      ]
    },
    {
      "cell_type": "code",
      "execution_count": 6,
      "metadata": {
        "id": "4pAwja3NgWqL"
      },
      "outputs": [],
      "source": [
        "from torch.utils import data\n",
        "import csv\n",
        "import random\n",
        "import torch\n",
        "import yaml\n",
        "import cv2\n",
        "import os\n",
        "\n",
        "from time import process_time\n",
        "from torch.utils.data import Dataset\n",
        "\n",
        "root_dir = '/content/wildtrack-iqa'\n",
        "data_dir = root_dir + '/RAW'\n",
        "\n",
        "def get_key(val, item_dict):\n",
        "    for key, value in item_dict.items():\n",
        "        if val == value:\n",
        "            return key\n",
        "    return -1\n",
        "\n",
        "def createImageSamples(img_shape, num_samples):\n",
        "  x = np.random.rand(num_samples, img_shape[0], img_shape[1], img_shape[2])\n",
        "  y = np.random.randint(low=0, high=2, size=(num_samples, 1))\n",
        "  return (x,y)\n",
        "\n",
        "def generate_data_sets(sample_percentage=1):\n",
        "\n",
        "    image_reference_list = []\n",
        "    subdirectories = list(os.walk(data_dir, topdown=False))[:-1]\n",
        "\n",
        "    for subdir in subdirectories:\n",
        "        image_location = subdir[0]\n",
        "        images = subdir[2]\n",
        "        species_rating = image_location.rsplit('/', 1)[-1].replace('_', ' ')\n",
        "        subjective_score = int(species_rating.rsplit(' ', 1)[-1])\n",
        "        species_class = species_rating.rsplit(' ', 1)[:-1][0]\n",
        "        if len(species_class.rsplit(' ', 1)) > 1:\n",
        "            species = species_class.rsplit(' ')[0]\n",
        "            animal_class = ' '.join(species_class.rsplit(' ')[1:])\n",
        "        else:\n",
        "            animal_class = 'Unknown'\n",
        "            species = species_class\n",
        "\n",
        "        for image in images:\n",
        "            class_name = species if animal_class == 'Unknown' else species + ': ' + animal_class\n",
        "            class_index = get_key(class_name, class_mapping)\n",
        "            if class_index > -1:\n",
        "              image_reference = (image_location, species, animal_class, image, class_index, subjective_score)\n",
        "              image_reference_list.append(image_reference)\n",
        "    \n",
        "    # add percentage of generated data\n",
        "    #samples = int(len(image_reference_list) * .20)\n",
        "    #for i in range(0,samples):\n",
        "    #  image_reference_list.append(('sample','sample','sample','sample',0))\n",
        "\n",
        "    # shuffle then split\n",
        "    seed = 1234\n",
        "    random.Random(seed).shuffle(image_reference_list)\n",
        "\n",
        "    train_index = int(len(image_reference_list) * 0.6 * sample_percentage)\n",
        "    test_index = -int(len(image_reference_list) * 0.2 * sample_percentage) \n",
        "    val_index = test_index * 2\n",
        "\n",
        "    training = image_reference_list[:train_index]\n",
        "    validation = image_reference_list[val_index:test_index]\n",
        "    testing = image_reference_list[test_index:]\n",
        "    return training, validation, testing\n",
        "\n",
        "def convert_image(img_test):\n",
        "    image = Image.open(img_test)\n",
        "    #convert bw to RGB\n",
        "    bands = image.getbands()\n",
        "    if len(bands) == 1:\n",
        "      image = image.convert(mode='RGB')\n",
        "    image = np.array(image)\n",
        "    image = transforms(image=image)['image']\n",
        "    x = torch.from_numpy(image).to(device)\n",
        "    return x\n",
        "\n",
        "\n",
        "def transform_images(images):\n",
        "  x = []\n",
        "  y = []\n",
        "  for img in images:\n",
        "      image_name = img[0]+'/'+img[3]\n",
        "      image = convert_image(image_name)\n",
        "      x.append(image)\n",
        "      y.append(img[4])\n",
        "\n",
        "  return np.array(x), np.array(y)\n"
      ]
    },
    {
      "cell_type": "code",
      "execution_count": 35,
      "metadata": {
        "colab": {
          "base_uri": "https://localhost:8080/"
        },
        "id": "p8GdSg7AieRs",
        "outputId": "4c2d494f-33b0-46c0-b7a6-b66917a17528"
      },
      "outputs": [
        {
          "output_type": "stream",
          "name": "stderr",
          "text": [
            "/usr/local/lib/python3.7/dist-packages/ipykernel_launcher.py:90: FutureWarning: The input object of type 'Tensor' is an array-like implementing one of the corresponding protocols (`__array__`, `__array_interface__` or `__array_struct__`); but not a sequence (or 0-D). In the future, this object will be coerced as if it was first converted using `np.array(obj)`. To retain the old behaviour, you have to either modify the type 'Tensor', or assign to an empty array created with `np.empty(correct_shape, dtype=object)`.\n",
            "/usr/local/lib/python3.7/dist-packages/ipykernel_launcher.py:90: VisibleDeprecationWarning: Creating an ndarray from ragged nested sequences (which is a list-or-tuple of lists-or-tuples-or ndarrays with different lengths or shapes) is deprecated. If you meant to do this, you must specify 'dtype=object' when creating the ndarray.\n"
          ]
        }
      ],
      "source": [
        "# take a percentage of the full data set as a training/test/validation sample\n",
        "sample_size=1\n",
        "train, valid, test = generate_data_sets(sample_size)\n",
        "x_train, y_train = transform_images(train)\n",
        "x_val, y_val = transform_images(valid)\n",
        "x_test, y_test = transform_images(test)"
      ]
    },
    {
      "cell_type": "markdown",
      "metadata": {
        "id": "-N-KhCLnnRqn"
      },
      "source": [
        "**Execute the below installation only in Colab environment**"
      ]
    },
    {
      "cell_type": "code",
      "execution_count": 36,
      "metadata": {
        "id": "dxSl5aC2xE3u"
      },
      "outputs": [],
      "source": [
        "from taskamenability.interface import PPOInterface\n",
        "\n",
        "img_shape = (512,512,3)\n",
        "task_predictor = model\n",
        "interface = PPOInterface(x_train, y_train, x_val, y_val, x_test, y_test, task_predictor, img_shape)"
      ]
    },
    {
      "cell_type": "code",
      "execution_count": 37,
      "metadata": {
        "colab": {
          "base_uri": "https://localhost:8080/"
        },
        "id": "dnmi6hBOOyka",
        "outputId": "541167fb-8613-4920-b272-e0008aec69e2"
      },
      "outputs": [
        {
          "output_type": "stream",
          "name": "stdout",
          "text": [
            "Training started for 10 episodes:\n",
            "Reward: 0.3333333429497497\n",
            "-----------------------------------\n",
            "| approxkl           | 0.20984882 |\n",
            "| clipfrac           | 0.576579   |\n",
            "| explained_variance | -36.5      |\n",
            "| fps                | 2          |\n",
            "| n_updates          | 1          |\n",
            "| policy_entropy     | 1.4189528  |\n",
            "| policy_loss        | 0.09573734 |\n",
            "| serial_timesteps   | 950        |\n",
            "| time_elapsed       | 1.6e-05    |\n",
            "| total_timesteps    | 950        |\n",
            "| value_loss         | 7270.8257  |\n",
            "-----------------------------------\n",
            "Reward: 0.30000005134368835\n",
            "-------------------------------------\n",
            "| approxkl           | 0.0020138524 |\n",
            "| clipfrac           | 0.018157896  |\n",
            "| explained_variance | -23.9        |\n",
            "| fps                | 2            |\n",
            "| n_updates          | 2            |\n",
            "| policy_entropy     | 1.4189728    |\n",
            "| policy_loss        | 0.003717964  |\n",
            "| serial_timesteps   | 1900         |\n",
            "| time_elapsed       | 412          |\n",
            "| total_timesteps    | 1900         |\n",
            "| value_loss         | 405.57013    |\n",
            "-------------------------------------\n",
            "Reward: 0.26666659325617803\n",
            "------------------------------------\n",
            "| approxkl           | 0.05207292  |\n",
            "| clipfrac           | 0.40105265  |\n",
            "| explained_variance | -27.2       |\n",
            "| fps                | 2           |\n",
            "| n_updates          | 3           |\n",
            "| policy_entropy     | 1.4190696   |\n",
            "| policy_loss        | 0.035164937 |\n",
            "| serial_timesteps   | 2850        |\n",
            "| time_elapsed       | 811         |\n",
            "| total_timesteps    | 2850        |\n",
            "| value_loss         | 231.15732   |\n",
            "------------------------------------\n",
            "Reward: 0.2333333168839018\n",
            "--------------------------------------\n",
            "| approxkl           | 0.00087942684 |\n",
            "| clipfrac           | 0.0015789474  |\n",
            "| explained_variance | -4.51         |\n",
            "| fps                | 2             |\n",
            "| n_updates          | 4             |\n",
            "| policy_entropy     | 1.4193205     |\n",
            "| policy_loss        | 0.00021780045 |\n",
            "| serial_timesteps   | 3800          |\n",
            "| time_elapsed       | 1.15e+03      |\n",
            "| total_timesteps    | 3800          |\n",
            "| value_loss         | 30.528118     |\n",
            "--------------------------------------\n",
            "Reward: 0.19999996046820323\n",
            "---------------------------------------\n",
            "| approxkl           | 0.0014876691   |\n",
            "| clipfrac           | 0.007894737    |\n",
            "| explained_variance | -2.66          |\n",
            "| fps                | 2              |\n",
            "| n_updates          | 5              |\n",
            "| policy_entropy     | 1.419657       |\n",
            "| policy_loss        | -0.00086208933 |\n",
            "| serial_timesteps   | 4750           |\n",
            "| time_elapsed       | 1.54e+03       |\n",
            "| total_timesteps    | 4750           |\n",
            "| value_loss         | 9.945852       |\n",
            "---------------------------------------\n",
            "Reward: 0.16666667515130873\n",
            "---------------------------------------\n",
            "| approxkl           | 0.00015009327  |\n",
            "| clipfrac           | 0.0            |\n",
            "| explained_variance | -1.99          |\n",
            "| fps                | 2              |\n",
            "| n_updates          | 6              |\n",
            "| policy_entropy     | 1.4197352      |\n",
            "| policy_loss        | -0.00024055036 |\n",
            "| serial_timesteps   | 5700           |\n",
            "| time_elapsed       | 1.88e+03       |\n",
            "| total_timesteps    | 5700           |\n",
            "| value_loss         | 6.063962       |\n",
            "---------------------------------------\n",
            "Reward: 0.13333338209817103\n",
            "--------------------------------------\n",
            "| approxkl           | 0.00095005514 |\n",
            "| clipfrac           | 0.0010526315  |\n",
            "| explained_variance | -2.21         |\n",
            "| fps                | 2             |\n",
            "| n_updates          | 7             |\n",
            "| policy_entropy     | 1.4198103     |\n",
            "| policy_loss        | 0.0003455929  |\n",
            "| serial_timesteps   | 6650          |\n",
            "| time_elapsed       | 2.27e+03      |\n",
            "| total_timesteps    | 6650          |\n",
            "| value_loss         | 7.3816905     |\n",
            "--------------------------------------\n",
            "Reward: 0.10000001885939547\n",
            "--------------------------------------\n",
            "| approxkl           | 7.8592784e-05 |\n",
            "| clipfrac           | 0.0           |\n",
            "| explained_variance | -1.83         |\n",
            "| fps                | 2             |\n",
            "| n_updates          | 8             |\n",
            "| policy_entropy     | 1.420008      |\n",
            "| policy_loss        | 7.194438e-05  |\n",
            "| serial_timesteps   | 7600          |\n",
            "| time_elapsed       | 2.6e+03       |\n",
            "| total_timesteps    | 7600          |\n",
            "| value_loss         | 4.848108      |\n",
            "--------------------------------------\n",
            "Reward: 0.06666668213917859\n",
            "---------------------------------------\n",
            "| approxkl           | 0.00019408921  |\n",
            "| clipfrac           | 0.0            |\n",
            "| explained_variance | -1.62          |\n",
            "| fps                | 2              |\n",
            "| n_updates          | 9              |\n",
            "| policy_entropy     | 1.4200928      |\n",
            "| policy_loss        | -0.00014082466 |\n",
            "| serial_timesteps   | 8550           |\n",
            "| time_elapsed       | 2.98e+03       |\n",
            "| total_timesteps    | 8550           |\n",
            "| value_loss         | 4.6734424      |\n",
            "---------------------------------------\n",
            "Reward: 0.033333274144355274\n",
            "-------------------------------------\n",
            "| approxkl           | 8.648286e-05 |\n",
            "| clipfrac           | 0.0          |\n",
            "| explained_variance | -1.45        |\n",
            "| fps                | 2            |\n",
            "| n_updates          | 10           |\n",
            "| policy_entropy     | 1.4201933    |\n",
            "| policy_loss        | 6.194417e-05 |\n",
            "| serial_timesteps   | 9500         |\n",
            "| time_elapsed       | 3.32e+03     |\n",
            "| total_timesteps    | 9500         |\n",
            "| value_loss         | 4.560136     |\n",
            "-------------------------------------\n"
          ]
        }
      ],
      "source": [
        "interface.train(10)"
      ]
    },
    {
      "cell_type": "code",
      "execution_count": 38,
      "metadata": {
        "id": "JnUc27Yg93Nm"
      },
      "outputs": [],
      "source": [
        "preds = []\n",
        "class_preds = []\n",
        "for item in interface.x_holdout:\n",
        "  obs = item.permute(2, 0, 1).unsqueeze(dim=0).float()\n",
        "  y_pred = model(obs)\n",
        "  y_pred = y_pred.argmax(dim=1).squeeze().item()\n",
        "  class_preds.append(y_pred)\n",
        "  preds.append(interface.model.predict(item))"
      ]
    },
    {
      "cell_type": "code",
      "execution_count": 39,
      "metadata": {
        "colab": {
          "base_uri": "https://localhost:8080/"
        },
        "id": "flmF4Ned5oas",
        "outputId": "783a1713-d1e9-423d-fc99-c06e964430cb"
      },
      "outputs": [
        {
          "output_type": "execute_result",
          "data": {
            "text/plain": [
              "32.48407643312102"
            ]
          },
          "metadata": {},
          "execution_count": 39
        }
      ],
      "source": [
        "# percentage where quality assessment matched the actual outcome (i.e. if deemed 1 it could truly be classified, if deemed 0 it could not be classified)\n",
        "class_actuals = [ item[4] for item in test]\n",
        "subjective_quality = [ item[5] for item in test]\n",
        "\n",
        "accurate_quality_assessment = []\n",
        "for i in range(len(class_preds)):\n",
        "  pred_value = preds[i][0][0]\n",
        "  if class_preds[i] == class_actuals[i] and pred_value >= 0.5:\n",
        "    accurate_quality_assessment.append(1)\n",
        "  elif class_preds[i] != class_actuals[i] and pred_value < 0.5:\n",
        "    accurate_quality_assessment.append(1)\n",
        "  else:\n",
        "    accurate_quality_assessment.append(0)\n",
        "\n",
        "overall_percentage_correct = np.mean(np.array(accurate_quality_assessment)) * 100\n",
        "overall_percentage_correct\n"
      ]
    },
    {
      "cell_type": "code",
      "source": [
        "# how well does subjective scores do in predicting what images should be used vs not used?\n",
        "subjective_quality_assessment = []\n",
        "\n",
        "for i in range(len(class_preds)):\n",
        "  if class_preds[i] == class_actuals[i] and subjective_quality[i] >= 4:\n",
        "    subjective_quality_assessment.append(1)\n",
        "  if class_preds[i] != class_actuals[i] and subjective_quality[i] < 4:\n",
        "    subjective_quality_assessment.append(1)\n",
        "  else:\n",
        "    subjective_quality_assessment.append(0)\n",
        "\n",
        "subjective_percentage_correct = np.mean(np.array(subjective_quality_assessment)) * 100\n",
        "subjective_percentage_correct"
      ],
      "metadata": {
        "colab": {
          "base_uri": "https://localhost:8080/"
        },
        "id": "VQaNUECK7gHM",
        "outputId": "ef84f429-7c04-46f6-ff9a-c4aa4ecfd4fb"
      },
      "execution_count": 40,
      "outputs": [
        {
          "output_type": "execute_result",
          "data": {
            "text/plain": [
              "35.264663805436335"
            ]
          },
          "metadata": {},
          "execution_count": 40
        }
      ]
    },
    {
      "cell_type": "code",
      "source": [
        "# creating the dataset\n",
        "data = {'predictive image quality accuracy':overall_percentage_correct, 'subjective image quality accuracy': subjective_percentage_correct}\n",
        "courses = list(data.keys())\n",
        "values = list(data.values())\n",
        "\n",
        "fig = plt.figure(figsize = (10, 5))\n",
        " \n",
        "# creating the bar plot\n",
        "plt.bar(courses, values, color = ['red', 'blue'])\n",
        " \n",
        "plt.xlabel(\"Accuracy Scores\")\n",
        "plt.ylabel(\"Percent Accuracy\")\n",
        "plt.title(\"Image Quality Assessment Accuracy\")\n",
        "plt.show()"
      ],
      "metadata": {
        "colab": {
          "base_uri": "https://localhost:8080/",
          "height": 350
        },
        "id": "Y45hqqRU9Dvk",
        "outputId": "af8e1493-bb1b-4509-d7e2-2bc0372c8b82"
      },
      "execution_count": 41,
      "outputs": [
        {
          "output_type": "display_data",
          "data": {
            "text/plain": [
              "<Figure size 720x360 with 1 Axes>"
            ],
            "image/png": "[encoded data removed]"
          },
          "metadata": {
            "needs_background": "light"
          }
        }
      ]
    },
    {
      "cell_type": "code",
      "execution_count": 42,
      "metadata": {
        "id": "lNnVENtaFBgZ",
        "colab": {
          "base_uri": "https://localhost:8080/"
        },
        "outputId": "66ca15e2-d9cc-4542-96a4-1281be3fcea2"
      },
      "outputs": [
        {
          "output_type": "execute_result",
          "data": {
            "text/plain": [
              "24.405506883604506"
            ]
          },
          "metadata": {},
          "execution_count": 42
        }
      ],
      "source": [
        "# how well are we doing when predicting classes that truly matched?\n",
        "\n",
        "matching_quality_assessment = []\n",
        "for i in range(len(class_preds)):\n",
        "  pred_value = preds[i][0][0]\n",
        "  if class_preds[i] == class_actuals[i] and pred_value >= 0.5:\n",
        "    matching_quality_assessment.append(1)\n",
        "  elif class_preds[i] == class_actuals[i] and pred_value < 0.5:\n",
        "    matching_quality_assessment.append(0)\n",
        "  else:\n",
        "    matching_quality_assessment.append(-1)\n",
        "\n",
        "matching_percentage_correct = np.mean(np.array([value for value in matching_quality_assessment if (value == 0 or value == 1) ])) * 100\n",
        "matching_percentage_correct\n"
      ]
    },
    {
      "cell_type": "code",
      "source": [
        "# how well are we doing when predicting when not to use an image ?\n",
        "non_matching_quality_assessment = []\n",
        "\n",
        "for i in range(len(class_preds)):\n",
        "  pred_value = preds[i][0][0]\n",
        "  if class_preds[i] != class_actuals[i] and pred_value < .5:\n",
        "    non_matching_quality_assessment.append(1)\n",
        "  if class_preds[i] != class_actuals[i] and pred_value >= .5:\n",
        "    non_matching_quality_assessment.append(0)\n",
        "  else:\n",
        "    non_matching_quality_assessment.append(-1)\n",
        "\n",
        "non_matching_percentage_correct = np.mean(np.array([value for value in non_matching_quality_assessment if (value == 0 or value == 1) ])) * 100\n",
        "non_matching_percentage_correct"
      ],
      "metadata": {
        "colab": {
          "base_uri": "https://localhost:8080/"
        },
        "id": "onGFQEu12l4k",
        "outputId": "a3337eb5-be8a-410a-e747-9341b8af1f34"
      },
      "execution_count": 43,
      "outputs": [
        {
          "output_type": "execute_result",
          "data": {
            "text/plain": [
              "77.62237762237763"
            ]
          },
          "metadata": {},
          "execution_count": 43
        }
      ]
    },
    {
      "cell_type": "code",
      "source": [
        "# creating the dataset\n",
        "data = {'overall accuracy':overall_percentage_correct, 'matching percentage accuracy':matching_percentage_correct, 'non-matching percentage accuracy':non_matching_percentage_correct}\n",
        "courses = list(data.keys())\n",
        "values = list(data.values())\n",
        "\n",
        "fig = plt.figure(figsize = (10, 5))\n",
        " \n",
        "# creating the bar plot\n",
        "plt.bar(courses, values, color = ['red', 'blue','green'])\n",
        " \n",
        "plt.xlabel(\"Accuracy Scores\")\n",
        "plt.ylabel(\"Percent Accuracy\")\n",
        "plt.title(\"Prediction Image Quality Assessment Accuracy\")\n",
        "plt.show()"
      ],
      "metadata": {
        "colab": {
          "base_uri": "https://localhost:8080/",
          "height": 350
        },
        "id": "vfDOL-Ku6XKm",
        "outputId": "91e7ffd4-6af3-41c5-887d-6ee5d33e304c"
      },
      "execution_count": 44,
      "outputs": [
        {
          "output_type": "display_data",
          "data": {
            "text/plain": [
              "<Figure size 720x360 with 1 Axes>"
            ],
            "image/png": "[encoded data removed]"
          },
          "metadata": {
            "needs_background": "light"
          }
        }
      ]
    },
    {
      "cell_type": "code",
      "source": [
        "# how well are we doing when predicting classes that truly matched?\n",
        "\n",
        "subj_matching_quality_assessment = []\n",
        "\n",
        "for i in range(len(class_preds)):\n",
        "  if class_preds[i] == class_actuals[i] and subjective_quality[i] >= 4:\n",
        "    subj_matching_quality_assessment.append(1)\n",
        "  elif class_preds[i] == class_actuals[i] and subjective_quality[i] < 4:\n",
        "    subj_matching_quality_assessment.append(0)\n",
        "  else:\n",
        "    subj_matching_quality_assessment.append(-1)\n",
        "\n",
        "subj_matching_percentage_correct = np.mean(np.array([value for value in subj_matching_quality_assessment if (value == 0 or value == 1) ])) * 100\n",
        "subj_matching_percentage_correct"
      ],
      "metadata": {
        "colab": {
          "base_uri": "https://localhost:8080/"
        },
        "id": "-f--aw20Azac",
        "outputId": "c9a62a8c-58a1-4d84-c3f4-eb8ca5c91e4d"
      },
      "execution_count": 45,
      "outputs": [
        {
          "output_type": "execute_result",
          "data": {
            "text/plain": [
              "57.07133917396746"
            ]
          },
          "metadata": {},
          "execution_count": 45
        }
      ]
    },
    {
      "cell_type": "code",
      "source": [
        "# how well are we doing when predicting when not to use an image ?\n",
        "subj_non_matching_quality_assessment = []\n",
        "\n",
        "for i in range(len(class_preds)):\n",
        "\n",
        "  if class_preds[i] != class_actuals[i] and subjective_quality[i] < 4:\n",
        "    subj_non_matching_quality_assessment.append(1)\n",
        "  if class_preds[i] != class_actuals[i] and subjective_quality[i] >= 4:\n",
        "    subj_non_matching_quality_assessment.append(0)\n",
        "  else:\n",
        "    subj_non_matching_quality_assessment.append(-1)\n",
        "\n",
        "subj_non_matching_percentage_correct = np.mean(np.array([value for value in subj_non_matching_quality_assessment if (value == 0 or value == 1) ])) * 100\n",
        "subj_non_matching_percentage_correct"
      ],
      "metadata": {
        "colab": {
          "base_uri": "https://localhost:8080/"
        },
        "id": "y3Z5hdJyBa6C",
        "outputId": "26485a79-3820-4ac4-a393-3dfb663a34ad"
      },
      "execution_count": 46,
      "outputs": [
        {
          "output_type": "execute_result",
          "data": {
            "text/plain": [
              "25.874125874125873"
            ]
          },
          "metadata": {},
          "execution_count": 46
        }
      ]
    },
    {
      "cell_type": "code",
      "source": [
        "# creating the dataset\n",
        "data = {'subj. overall accuracy':subjective_percentage_correct, 'subj. matching percentage accuracy': subj_matching_percentage_correct, 'subj. non-matching percentage accuracy': subj_non_matching_percentage_correct}\n",
        "courses = list(data.keys())\n",
        "values = list(data.values())\n",
        "\n",
        "fig = plt.figure(figsize = (10, 5))\n",
        " \n",
        "# creating the bar plot\n",
        "plt.bar(courses, values, color = ['red', 'blue','green'])\n",
        " \n",
        "plt.xlabel(\"Accuracy Scores\")\n",
        "plt.ylabel(\"Percent Accuracy\")\n",
        "plt.title(\"Prediction Image Quality Assessment Accuracy\")\n",
        "plt.show()"
      ],
      "metadata": {
        "colab": {
          "base_uri": "https://localhost:8080/",
          "height": 350
        },
        "id": "cwaf6CcjCCKj",
        "outputId": "ddd75fc1-7e39-44ce-dbe4-31e371f62e25"
      },
      "execution_count": 47,
      "outputs": [
        {
          "output_type": "display_data",
          "data": {
            "text/plain": [
              "<Figure size 720x360 with 1 Axes>"
            ],
            "image/png": "[encoded data removed]"
          },
          "metadata": {
            "needs_background": "light"
          }
        }
      ]
    },
    {
      "cell_type": "markdown",
      "source": [
        "It looks like subjective scores only perform at 57% for truly high quality images, however when it says it's a poor image it doesn't do well.  Let's look at that a bit more..."
      ],
      "metadata": {
        "id": "w9r5azcgDlwN"
      }
    },
    {
      "cell_type": "code",
      "source": [
        "# how many were classiable but considered poor quality?\n",
        "subj_non_matching_quality_assessment = []\n",
        "\n",
        "for i in range(len(class_preds)):\n",
        "\n",
        "  if class_preds[i] == class_actuals[i] and subjective_quality[i] < 4:\n",
        "    subj_non_matching_quality_assessment.append(1)\n",
        "  if class_preds[i] == class_actuals[i] and subjective_quality[i] >= 4:\n",
        "    subj_non_matching_quality_assessment.append(0)\n",
        "  else:\n",
        "    subj_non_matching_quality_assessment.append(-1)\n",
        "\n",
        "subj_non_matching_percentage_incorrect = np.mean(np.array([value for value in subj_non_matching_quality_assessment if (value == 0 or value == 1) ])) * 100\n",
        "subj_non_matching_percentage_incorrect"
      ],
      "metadata": {
        "colab": {
          "base_uri": "https://localhost:8080/"
        },
        "id": "KEfbuWitD7aI",
        "outputId": "4930757e-472c-4f7b-c2e0-2831d2bf6333"
      },
      "execution_count": 48,
      "outputs": [
        {
          "output_type": "execute_result",
          "data": {
            "text/plain": [
              "42.92866082603254"
            ]
          },
          "metadata": {},
          "execution_count": 48
        }
      ]
    },
    {
      "cell_type": "code",
      "source": [
        "# how many images were considered high quality but not classifiable?\n",
        "\n",
        "subj_non_matching_quality_assessment = []\n",
        "\n",
        "for i in range(len(class_preds)):\n",
        "\n",
        "  if class_preds[i] != class_actuals[i] and subjective_quality[i] >= 4:\n",
        "    subj_non_matching_quality_assessment.append(1)\n",
        "  if class_preds[i] != class_actuals[i] and subjective_quality[i] < 4:\n",
        "    subj_non_matching_quality_assessment.append(0)\n",
        "  else:\n",
        "    subj_non_matching_quality_assessment.append(-1)\n",
        "\n",
        "subj_non_matching_percentage_incorrect = np.mean(np.array([value for value in subj_non_matching_quality_assessment if (value == 0 or value == 1) ])) * 100\n",
        "subj_non_matching_percentage_incorrect"
      ],
      "metadata": {
        "colab": {
          "base_uri": "https://localhost:8080/"
        },
        "id": "9rvFcpjOE_6J",
        "outputId": "48f4c8d5-1045-4c58-8fc7-ecbe019e316e"
      },
      "execution_count": 49,
      "outputs": [
        {
          "output_type": "execute_result",
          "data": {
            "text/plain": [
              "74.12587412587412"
            ]
          },
          "metadata": {},
          "execution_count": 49
        }
      ]
    },
    {
      "cell_type": "markdown",
      "source": [
        "Nearly 16% of images that were classifiable were considered poor quality. 89% of images that were considered high quality were not classifiable\n",
        "\n",
        "Now let's compare this with the predicted quality assessment\n"
      ],
      "metadata": {
        "id": "zGX1WkBjEnmg"
      }
    },
    {
      "cell_type": "code",
      "source": [
        "# how many were classiable but considered poor quality?\n",
        "pred_non_matching_quality_assessment = []\n",
        "\n",
        "for i in range(len(class_preds)):\n",
        "  pred_value = preds[i][0][0]\n",
        "  if class_preds[i] == class_actuals[i] and pred_value < .5:\n",
        "    pred_non_matching_quality_assessment.append(1)\n",
        "  if class_preds[i] == class_actuals[i] and pred_value >= .5:\n",
        "    pred_non_matching_quality_assessment.append(0)\n",
        "  else:\n",
        "    pred_non_matching_quality_assessment.append(-1)\n",
        "\n",
        "pred_non_matching_percentage_incorrect = np.mean(np.array([value for value in pred_non_matching_quality_assessment if (value == 0 or value == 1) ])) * 100\n",
        "pred_non_matching_percentage_incorrect"
      ],
      "metadata": {
        "colab": {
          "base_uri": "https://localhost:8080/"
        },
        "id": "dWpgXD8dHLT9",
        "outputId": "94e09b59-bdae-4186-d9bb-c2118d42d671"
      },
      "execution_count": 50,
      "outputs": [
        {
          "output_type": "execute_result",
          "data": {
            "text/plain": [
              "75.59449311639548"
            ]
          },
          "metadata": {},
          "execution_count": 50
        }
      ]
    },
    {
      "cell_type": "code",
      "source": [
        "# how many were not classiable but considered high quality?\n",
        "pred_non_matching_quality_assessment = []\n",
        "\n",
        "for i in range(len(class_preds)):\n",
        "  pred_value = preds[i][0][0]\n",
        "  if class_preds[i] != class_actuals[i] and pred_value >= .5:\n",
        "    pred_non_matching_quality_assessment.append(1)\n",
        "  if class_preds[i] != class_actuals[i] and pred_value < .5:\n",
        "    pred_non_matching_quality_assessment.append(0)\n",
        "  else:\n",
        "    pred_non_matching_quality_assessment.append(-1)\n",
        "\n",
        "pred_non_matching_percentage_incorrect = np.mean(np.array([value for value in pred_non_matching_quality_assessment if (value == 0 or value == 1) ])) * 100\n",
        "pred_non_matching_percentage_incorrect"
      ],
      "metadata": {
        "colab": {
          "base_uri": "https://localhost:8080/"
        },
        "id": "ATcBQ7brHuJx",
        "outputId": "a4e1f7f8-5b9f-4bc3-d6f6-c0147177a997"
      },
      "execution_count": 51,
      "outputs": [
        {
          "output_type": "execute_result",
          "data": {
            "text/plain": [
              "22.377622377622377"
            ]
          },
          "metadata": {},
          "execution_count": 51
        }
      ]
    },
    {
      "cell_type": "code",
      "source": [
        "# figure out data distributiong\n",
        "\n",
        "test_class_distribution = np.array([item[4] for item in train])\n",
        "\n",
        "plt.hist(test_class_distribution)"
      ],
      "metadata": {
        "colab": {
          "base_uri": "https://localhost:8080/",
          "height": 317
        },
        "id": "3inWkwbiqFIn",
        "outputId": "09fa63aa-f962-4f48-d059-0bcbbc3d7934"
      },
      "execution_count": 34,
      "outputs": [
        {
          "output_type": "execute_result",
          "data": {
            "text/plain": [
              "(array([137., 560.,  24., 104.,  51., 134.,  44.,  29.,  51., 279.]),\n",
              " array([ 0. ,  1.3,  2.6,  3.9,  5.2,  6.5,  7.8,  9.1, 10.4, 11.7, 13. ]),\n",
              " <a list of 10 Patch objects>)"
            ]
          },
          "metadata": {},
          "execution_count": 34
        },
        {
          "output_type": "display_data",
          "data": {
            "text/plain": [
              "<Figure size 432x288 with 1 Axes>"
            ],
            "image/png": "[encoded data removed]"
          },
          "metadata": {
            "needs_background": "light"
          }
        }
      ]
    }
  ],
  "metadata": {
    "accelerator": "GPU",
    "colab": {
      "collapsed_sections": [],
      "machine_shape": "hm",
      "provenance": [],
      "authorship_tag": "ABX9TyPc1jjshRlxy+3nf7BMhRjC",
      "include_colab_link": true
    },
    "gpuClass": "standard",
    "kernelspec": {
      "display_name": "Python 3",
      "name": "python3"
    },
    "language_info": {
      "name": "python"
    }
  },
  "nbformat": 4,
  "nbformat_minor": 0
}