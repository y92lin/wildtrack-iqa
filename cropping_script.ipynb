{
  "nbformat": 4,
  "nbformat_minor": 0,
  "metadata": {
    "colab": {
      "provenance": [],
      "authorship_tag": "ABX9TyO2LWT1iIRkdn1WNTNG2f4S",
      "include_colab_link": true
    },
    "kernelspec": {
      "name": "python3",
      "display_name": "Python 3"
    },
    "language_info": {
      "name": "python"
    }
  },
  "cells": [
    {
      "cell_type": "markdown",
      "metadata": {
        "id": "view-in-github",
        "colab_type": "text"
      },
      "source": [
        "<a href=\"https://colab.research.google.com/github/YolandaMDavis/wildtrack-iqa/blob/task-amenability/cropping_script.ipynb\" target=\"_parent\"><img src=\"https://colab.research.google.com/assets/colab-badge.svg\" alt=\"Open In Colab\"/></a>"
      ]
    },
    {
      "cell_type": "markdown",
      "source": [
        "**Ensure to upload the provided \"Faster R-CNN resnet50 (best single).zip\" file along with a quality 5, quality 1 images and a non footprint image before running.**"
      ],
      "metadata": {
        "id": "QAFjsh3KPd68"
      }
    },
    {
      "cell_type": "code",
      "source": [
        "#Only needed to copy data to local drive can be skipped if zip file is already available in working folder\n",
        "import shutil\n",
        "\n",
        "# mount google drive\n",
        "from google.colab import drive\n",
        "drive.mount('/content/drive') # for google colab. adjust accordingly\n",
        "PARENT_DIR = '/content/drive/MyDrive/Wildtrack Group/IQA' \n",
        "\n",
        "# copy and extract tar file\n",
        "shutil.copy(PARENT_DIR + '/data/WildTrack_Raw.zip', 'WildTrack_Raw.zip')"
      ],
      "metadata": {
        "colab": {
          "base_uri": "https://localhost:8080/",
          "height": 52
        },
        "id": "JJ2mEnhOBQaT",
        "outputId": "8b86268a-df55-4f31-f4db-45704bc9b877"
      },
      "execution_count": 2,
      "outputs": [
        {
          "output_type": "stream",
          "name": "stdout",
          "text": [
            "Mounted at /content/drive\n"
          ]
        },
        {
          "output_type": "execute_result",
          "data": {
            "text/plain": [
              "'WildTrack_Raw.zip'"
            ],
            "application/vnd.google.colaboratory.intrinsic+json": {
              "type": "string"
            }
          },
          "metadata": {},
          "execution_count": 2
        }
      ]
    },
    {
      "cell_type": "code",
      "source": [
        "from zipfile import ZipFile\n",
        "\n",
        "# extract zip file\n",
        "with ZipFile('WildTrack_Raw.zip', 'r') as zipObj:\n",
        "   # Extract all the contents of zip file in current directory\n",
        "   zipObj.extractall()"
      ],
      "metadata": {
        "id": "az0i9WyL8Yiq"
      },
      "execution_count": 3,
      "outputs": []
    },
    {
      "cell_type": "code",
      "source": [
        "import torch\n",
        "import torchvision\n",
        "from PIL import Image\n",
        "import torchvision.transforms as T\n",
        "import matplotlib.pyplot as plt\n",
        "import cv2\n",
        "import json\n",
        "import numpy as np\n",
        "import albumentations as A\n",
        "\n",
        "shutil.copy(PARENT_DIR + '/task-amenability/object/model.pt', 'object_model.pt')\n",
        "shutil.copy(PARENT_DIR + '/task-amenability/object/class_mapping.json', 'class_mapping.json')\n",
        "shutil.copy(PARENT_DIR + '/task-amenability/object/transforms.json', 'transforms.json')\n",
        "\n",
        "with open('class_mapping.json') as data:\n",
        "    mappings = json.load(data)\n",
        "\n",
        "class_mapping = {item['model_idx']: item['class_name'] for item in mappings}\n",
        "device = torch.device('cuda' if torch.cuda.is_available() else 'cpu')\n",
        "model = torch.jit.load('object_model.pt').to(device)\n",
        "transforms = A.load('transforms.json')"
      ],
      "metadata": {
        "id": "errYmrsBJo1j"
      },
      "execution_count": 4,
      "outputs": []
    },
    {
      "cell_type": "code",
      "source": [
        "import os\n",
        "\n",
        "def crop_image(image_location):\n",
        "\n",
        "  image = Image.open(image_location)\n",
        "  bands = image.getbands()\n",
        "  image = np.array(image)\n",
        "\n",
        "  if len(bands) == 1:\n",
        "    image = np.expand_dims(image, axis=2)  \n",
        "    \n",
        "  image = transforms(image=image)['image']\n",
        "  x = torch.from_numpy(image).to(device)\n",
        "  \n",
        "  with torch.no_grad():\n",
        "    x = x.permute(2, 0, 1).float()\n",
        "    y = model(x)\n",
        "\n",
        "    # remove overlapped boxes\n",
        "    no_overlap = torchvision.ops.nms(y['pred_boxes'], y['scores'], 0.5)\n",
        "    y['scores'] = y['scores'][no_overlap]\n",
        "    y['pred_boxes'] = y['pred_boxes'][no_overlap]\n",
        "    y['pred_classes'] = y['pred_classes'][no_overlap]\n",
        "\n",
        "    # keep only predictions with scores greater than .5\n",
        "    to_keep = (y['scores'] > 0.5).nonzero(as_tuple=True)[0]\n",
        "    y['pred_boxes'] = y['pred_boxes'][to_keep]\n",
        "    y['pred_classes'] = y['pred_classes'][to_keep] \n",
        "\n",
        "    if len(y['pred_boxes'].tolist()) > 0:\n",
        "      pred_box = y['pred_boxes'].tolist()[0]\n",
        "      x = int(pred_box[0])\n",
        "      y = int(pred_box[1])\n",
        "      w = int(pred_box[2])\n",
        "      h = int(pred_box[3])\n",
        "      cropped_image = image[y:y+h, x:x+w]\n",
        "\n",
        "      if len(bands) == 1:\n",
        "        cropped_image = np.squeeze(cropped_image, axis=2)\n",
        "\n",
        "      return Image.fromarray(cropped_image)\n",
        "\n",
        "    else:\n",
        "      return None\n",
        "\n",
        "def generate_data_sets(rootdir='CROPPED'):\n",
        "\n",
        "    image_reference_list = []\n",
        "    subdirectories = list(os.walk('RAW', topdown=False))[:-1]\n",
        "    \n",
        "    for subdir in subdirectories:\n",
        "        image_location = subdir[0]\n",
        "        images = subdir[2]\n",
        "        species_rating = image_location.rsplit('/', 1)[-1].replace('_', ' ')\n",
        "        subjective_score = int(species_rating.rsplit(' ', 1)[-1])\n",
        "        species_class = species_rating.rsplit(' ', 1)[:-1][0]\n",
        "\n",
        "        if len(species_class.rsplit(' ', 1)) > 1:\n",
        "            species = species_class.rsplit(' ')[0]\n",
        "            animal_class = ' '.join(species_class.rsplit(' ')[1:])\n",
        "        else:\n",
        "            animal_class = 'Unknown'\n",
        "            species = species_class\n",
        "\n",
        "        os.makedirs(rootdir + '/' + image_location)    \n",
        "\n",
        "        for image in images:\n",
        "            image_path = image_location + '/' + image\n",
        "            cropped_img = crop_image(image_location + '/' + image)\n",
        "            if cropped_img is not None:\n",
        "              cropped_img_path = rootdir + '/' + os.path.splitext(image_path)[0] + '_.jpg'\n",
        "              print(cropped_img_path)\n",
        "              cropped_img.save(cropped_img_path)\n",
        "            "
      ],
      "metadata": {
        "id": "iuxfOe5zG7mC"
      },
      "execution_count": 18,
      "outputs": []
    },
    {
      "cell_type": "code",
      "source": [
        "rootdir = 'CROPPED'\n",
        "generate_data_sets(rootdir)"
      ],
      "metadata": {
        "colab": {
          "base_uri": "https://localhost:8080/"
        },
        "id": "i4AixgAWK47B",
        "outputId": "79e037b9-52a6-49b3-ac90-16f48bc2bc38"
      },
      "execution_count": null,
      "outputs": [
        {
          "output_type": "stream",
          "name": "stdout",
          "text": [
            "CROPPED/RAW/Tiger_Amur_5/19e31b62d3de11ea91590242ac1c0002_.jpg\n",
            "CROPPED/RAW/Tiger_Amur_5/14789bacd3de11ea91590242ac1c0002_.jpg\n",
            "CROPPED/RAW/Tiger_Amur_5/1e0b05e2d3de11ea91590242ac1c0002_.jpg\n",
            "CROPPED/RAW/Tiger_Amur_5/18a3eaa6d3de11ea91590242ac1c0002_.jpg\n",
            "CROPPED/RAW/Tiger_Amur_5/1773848ed3de11ea91590242ac1c0002_.jpg\n",
            "CROPPED/RAW/Tiger_Amur_5/185ffde6d3de11ea91590242ac1c0002_.jpg\n",
            "CROPPED/RAW/Puma_4/ade563d4d3dd11ea91590242ac1c0002_.jpg\n",
            "CROPPED/RAW/Puma_4/b2b56b02d3dd11ea91590242ac1c0002_.jpg\n",
            "CROPPED/RAW/Puma_4/bbc3fcd6d3dd11ea91590242ac1c0002_.jpg\n",
            "CROPPED/RAW/Puma_4/f2cb6e06c48411eb9d2b00155db4bfaf_.jpg\n",
            "CROPPED/RAW/Puma_4/da681792c48411eb9d2b00155db4bfaf_.jpg\n",
            "CROPPED/RAW/Puma_4/b829194ed3dd11ea91590242ac1c0002_.jpg\n",
            "CROPPED/RAW/Puma_4/b3a07c86c4d811eba35c00155d207679_.jpg\n",
            "CROPPED/RAW/Puma_4/b3022c9ed3dd11ea91590242ac1c0002_.jpg\n",
            "CROPPED/RAW/Puma_4/bd066bf6d3dd11ea91590242ac1c0002_.jpg\n",
            "CROPPED/RAW/Puma_4/ead0e776c48411eb9d2b00155db4bfaf_.jpg\n",
            "CROPPED/RAW/Puma_4/01638afcc48511eb9d2b00155db4bfaf_.jpg\n",
            "CROPPED/RAW/Puma_4/e6b78212c48411eb9d2b00155db4bfaf_.jpg\n",
            "CROPPED/RAW/Puma_4/967cfd66c25b11eb9e0500155d4097da_.jpg\n",
            "CROPPED/RAW/Puma_4/b076075cd3dd11ea91590242ac1c0002_.jpg\n",
            "CROPPED/RAW/Puma_4/98758d36c25b11eb9e0500155d4097da_.jpg\n",
            "CROPPED/RAW/Puma_4/aacef7e6d3dd11ea91590242ac1c0002_.jpg\n",
            "CROPPED/RAW/Puma_4/8d7b6c0cc25b11eb9e0500155d4097da_.jpg\n",
            "CROPPED/RAW/Puma_4/acad6598d3dd11ea91590242ac1c0002_.jpg\n",
            "CROPPED/RAW/Puma_4/b91db6f2d3dd11ea91590242ac1c0002_.jpg\n",
            "CROPPED/RAW/Puma_4/f0b7afb2c48411eb9d2b00155db4bfaf_.jpg\n",
            "CROPPED/RAW/Puma_4/bd98698ed3dd11ea91590242ac1c0002_.jpg\n",
            "CROPPED/RAW/Puma_4/af9fb6cad3dd11ea91590242ac1c0002_.jpg\n",
            "CROPPED/RAW/Puma_4/fd55ee50c48411eb9d2b00155db4bfaf_.jpg\n",
            "CROPPED/RAW/Puma_4/93971d28c4d811eba35c00155d207679_.jpg\n",
            "CROPPED/RAW/Puma_4/f4e27c16c48411eb9d2b00155db4bfaf_.jpg\n",
            "CROPPED/RAW/Puma_4/bcb3d968d3dd11ea91590242ac1c0002_.jpg\n",
            "CROPPED/RAW/Puma_4/bc101ad0d3dd11ea91590242ac1c0002_.jpg\n",
            "CROPPED/RAW/Puma_4/b2299672d3dd11ea91590242ac1c0002_.jpg\n",
            "CROPPED/RAW/Puma_4/bc6e5a32d3dd11ea91590242ac1c0002_.jpg\n",
            "CROPPED/RAW/Puma_4/ae778d5ed3dd11ea91590242ac1c0002_.jpg\n",
            "CROPPED/RAW/Puma_4/b26e6e5ad3dd11ea91590242ac1c0002_.jpg\n",
            "CROPPED/RAW/Puma_4/ac0a5696d3dd11ea91590242ac1c0002_.jpg\n",
            "CROPPED/RAW/Puma_4/cd5d58b4c48411eb9d2b00155db4bfaf_.jpg\n",
            "CROPPED/RAW/Puma_4/bf6caf26c4d811eba35c00155d207679_.jpg\n",
            "CROPPED/RAW/Puma_4/afe6792ad3dd11ea91590242ac1c0002_.jpg\n",
            "CROPPED/RAW/Puma_4/ad0135b0d3dd11ea91590242ac1c0002_.jpg\n",
            "CROPPED/RAW/Puma_4/be0fd5d2d3dd11ea91590242ac1c0002_.jpg\n",
            "CROPPED/RAW/Puma_4/9ef5cfb6c4d811eba35c00155d207679_.jpg\n",
            "CROPPED/RAW/Puma_4/b19d97eed3dd11ea91590242ac1c0002_.jpg\n",
            "CROPPED/RAW/Puma_5/af1568e4d3dd11ea91590242ac1c0002_.jpg\n",
            "CROPPED/RAW/Puma_5/ba983c32d3dd11ea91590242ac1c0002_.jpg\n",
            "CROPPED/RAW/Puma_5/b6c482fad3dd11ea91590242ac1c0002_.jpg\n",
            "CROPPED/RAW/Puma_5/b39eb53cd3dd11ea91590242ac1c0002_.jpg\n",
            "CROPPED/RAW/Puma_5/b35a2e9ed3dd11ea91590242ac1c0002_.jpg\n",
            "CROPPED/RAW/Puma_5/9a3a4272c4d811eba35c00155d207679_.jpg\n",
            "CROPPED/RAW/Puma_5/b1498bf4d3dd11ea91590242ac1c0002_.jpg\n",
            "CROPPED/RAW/Puma_5/b9a1b8d0d3dd11ea91590242ac1c0002_.jpg\n",
            "CROPPED/RAW/Puma_5/b73b97c8d3dd11ea91590242ac1c0002_.jpg\n",
            "CROPPED/RAW/Puma_5/b64a3946d3dd11ea91590242ac1c0002_.jpg\n",
            "CROPPED/RAW/Puma_5/cfbfde20c4d811eba35c00155d207679_.jpg\n",
            "CROPPED/RAW/Puma_5/b47fc4fad3dd11ea91590242ac1c0002_.jpg\n",
            "CROPPED/RAW/Puma_5/b569adf4d3dd11ea91590242ac1c0002_.jpg\n",
            "CROPPED/RAW/Puma_5/b4fb6560d3dd11ea91590242ac1c0002_.jpg\n",
            "CROPPED/RAW/Puma_5/b1070478d3dd11ea91590242ac1c0002_.jpg\n",
            "CROPPED/RAW/Puma_5/bb6c187cd3dd11ea91590242ac1c0002_.jpg\n"
          ]
        }
      ]
    },
    {
      "cell_type": "code",
      "source": [
        "shutil.make_archive('Cropped_WildTrack', 'zip', rootdir)"
      ],
      "metadata": {
        "id": "C6-B2K9aQjxi"
      },
      "execution_count": null,
      "outputs": []
    },
    {
      "cell_type": "code",
      "source": [
        "shutil.copy('Cropped_WildTrack.zip', PARENT_DIR + '/data/Cropped_WildTrack.zip')"
      ],
      "metadata": {
        "id": "TPD3GEQyeL0-"
      },
      "execution_count": null,
      "outputs": []
    }
  ]
}