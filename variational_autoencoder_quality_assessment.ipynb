{
  "nbformat": 4,
  "nbformat_minor": 0,
  "metadata": {
    "colab": {
      "provenance": [],
      "machine_shape": "hm",
      "include_colab_link": true
    },
    "kernelspec": {
      "display_name": "Python 3 (ipykernel)",
      "language": "python",
      "name": "python3"
    },
    "language_info": {
      "codemirror_mode": {
        "name": "ipython",
        "version": 3
      },
      "file_extension": ".py",
      "mimetype": "text/x-python",
      "name": "python",
      "nbconvert_exporter": "python",
      "pygments_lexer": "ipython3",
      "version": "3.9.8"
    },
    "accelerator": "TPU",
    "gpuClass": "premium"
  },
  "cells": [
    {
      "cell_type": "markdown",
      "metadata": {
        "id": "view-in-github",
        "colab_type": "text"
      },
      "source": [
        "<a href=\"https://colab.research.google.com/github/YolandaMDavis/wildtrack-iqa/blob/master/variational_autoencoder_quality_assessment.ipynb\" target=\"_parent\"><img src=\"https://colab.research.google.com/assets/colab-badge.svg\" alt=\"Open In Colab\"/></a>"
      ]
    },
    {
      "cell_type": "markdown",
      "metadata": {
        "id": "onrdiAXRueMR"
      },
      "source": [
        "# Anomaly Detection Modeling for Quality Assessment\n",
        "\n",
        "Using a variational auto-encoder we will determine if we can assess an image as high quality or low quality for use in a downstream task.  The hypothesis here is that differences in error when recreating the classes of images may indicate a difference in quality."
      ]
    },
    {
      "cell_type": "markdown",
      "source": [
        "## Data Preparation"
      ],
      "metadata": {
        "id": "7dPIH682y-jB"
      }
    },
    {
      "cell_type": "code",
      "source": [
        "from google.colab import drive\n",
        "from zipfile import ZipFile\n",
        "\n",
        "import shutil\n",
        "\n",
        "drive.mount('/content/drive') # for google colab. adjust accordingly\n",
        "PARENT_DIR = '/content/drive/MyDrive/Wildtrack Group/IQA' \n",
        "\n",
        "# copy annotated and cropped images imafea\n",
        "shutil.copy(PARENT_DIR + '/data/Annotated_Cropped_WildTrack.zip', 'Cropped_WildTrack.zip')\n",
        "\n",
        "# extract zip file\n",
        "with ZipFile('Cropped_WildTrack.zip', 'r') as zipObj:\n",
        "   # Extract all the contents of zip file in current directory\n",
        "   zipObj.extractall()"
      ],
      "metadata": {
        "colab": {
          "base_uri": "https://localhost:8080/"
        },
        "id": "60RmgzaY70Xa",
        "outputId": "2b3a7b8b-2cb1-4ef5-90df-a0d4782bbe50"
      },
      "execution_count": 1,
      "outputs": [
        {
          "output_type": "stream",
          "name": "stdout",
          "text": [
            "Mounted at /content/drive\n"
          ]
        }
      ]
    },
    {
      "cell_type": "code",
      "source": [
        "import torch\n",
        "import torchvision\n",
        "from PIL import Image\n",
        "import torchvision.transforms as T\n",
        "import matplotlib.pyplot as plt\n",
        "import cv2\n",
        "import json\n",
        "import numpy as np\n",
        "import albumentations as A\n",
        "\n",
        "# get downstream/classification task model files\n",
        "shutil.copy(PARENT_DIR + '/final_model/transforms.json','transforms.json')\n",
        "shutil.copy(PARENT_DIR + '/final_model/species_model.pt', 'species_model.pt')\n",
        "shutil.copy(PARENT_DIR + '/final_model/class_mapping.json', 'class_mapping.json')\n",
        "\n",
        "device = torch.device('cpu')\n",
        "\n",
        "with open('class_mapping.json') as data:\n",
        "    mappings = json.load(data)\n",
        "\n",
        "class_mapping = {item['model_idx']: item['class_name'] for item in mappings}\n",
        "model = torch.jit.load('species_model.pt').to(device)\n",
        "transforms = A.load('transforms.json')"
      ],
      "metadata": {
        "id": "YbEAU_sZBxwb"
      },
      "execution_count": 2,
      "outputs": []
    },
    {
      "cell_type": "markdown",
      "source": [
        "The below functions are used to create a dataset which includes image input for the model but also data that dictates if the image could be classified in the downstream model (1 if classifiable, 0 if not classifiable)"
      ],
      "metadata": {
        "id": "b_i2xJK1_OFF"
      }
    },
    {
      "cell_type": "code",
      "source": [
        "from torch.utils import data\n",
        "import csv\n",
        "import random\n",
        "import torch\n",
        "import yaml\n",
        "import os\n",
        "import shutil\n",
        "from time import process_time\n",
        "from torch.utils.data import Dataset\n",
        "\n",
        "PARENT_DIR = '/content/drive/MyDrive/Wildtrack Group/IQA' \n",
        "data_dir = 'RAW/'\n",
        "\n",
        "def get_key(val, item_dict):\n",
        "    for key, value in item_dict.items():\n",
        "        if val == value:\n",
        "            return key\n",
        "    return -1\n",
        "\n",
        "def convert_image(img_test):\n",
        "    image = Image.open(img_test)\n",
        "    bands = image.getbands()\n",
        "    if len(bands) == 1:\n",
        "      image = image.convert(mode='RGB')\n",
        "    \n",
        "    # create B&W version\n",
        "    image_bw = image.resize((512,512))\n",
        "    image_bw = image_bw.convert('L')\n",
        "    image_bw = np.expand_dims(image_bw, axis=-1)\n",
        "\n",
        "    image = np.array(image)\n",
        "    image = transforms(image=image)['image']\n",
        "    return image, image_bw\n",
        "\n",
        "def generate_data_sets(sample_percentage=1):\n",
        "\n",
        "    image_reference_list = []\n",
        "    subdirectories = list(os.walk(data_dir, topdown=False))[:-1]\n",
        "\n",
        "    seed = 1234\n",
        "    random.Random(seed).shuffle(subdirectories)\n",
        "    subdirectories_idx = int(len(subdirectories) * sample_percentage) \n",
        "    subdirectories = subdirectories[:subdirectories_idx]\n",
        "\n",
        "    for subdir in subdirectories:\n",
        "        image_location = subdir[0]\n",
        "        images = subdir[2]\n",
        "        species_rating = image_location.rsplit('/', 1)[-1].replace('_', ' ')\n",
        "        subjective_score = int(species_rating.rsplit(' ', 1)[-1])\n",
        "        species_class = species_rating.rsplit(' ', 1)[:-1][0]\n",
        "\n",
        "        if len(species_class.rsplit(' ', 1)) > 1:\n",
        "            species = species_class.rsplit(' ')[0]\n",
        "            animal_class = ' '.join(species_class.rsplit(' ')[1:])\n",
        "        else:\n",
        "            animal_class = 'Unknown'\n",
        "            species = species_class\n",
        "\n",
        "        for image in images:\n",
        "            class_name = species if animal_class == 'Unknown' else species + ': ' + animal_class\n",
        "            class_index = get_key(class_name, class_mapping)\n",
        "            if class_index > -1:\n",
        "              image_name = image_location +'/'+ image\n",
        "              image_data, image_data_bw = convert_image(image_name)\n",
        "              model_input = torch.from_numpy(image_data).to(device)\n",
        "              obs = model_input.permute(2, 0, 1).unsqueeze(dim=0).float()\n",
        "              y_pred = model(obs)\n",
        "              y_pred = y_pred.argmax(dim=1).squeeze().item()\n",
        "              classifiable = 1 if class_index == y_pred else 0\n",
        "              image_reference = (image_location, image, species, animal_class, image_data_bw, classifiable)\n",
        "              image_reference_list.append(image_reference)\n",
        "\n",
        "    train_index = int(len(image_reference_list) * 0.6 )\n",
        "    test_index = -int(len(image_reference_list) * 0.2 ) \n",
        "    val_index = test_index * 2\n",
        "    training = image_reference_list[:train_index]\n",
        "    validation = image_reference_list[val_index:test_index]\n",
        "    testing = image_reference_list[test_index:]\n",
        "\n",
        "    return training, validation, testing\n",
        "\n"
      ],
      "metadata": {
        "id": "keVpYgDF8VJH"
      },
      "execution_count": 3,
      "outputs": []
    },
    {
      "cell_type": "code",
      "source": [
        "train, validation, test = generate_data_sets(sample_percentage=1)"
      ],
      "metadata": {
        "id": "I5BwN3y9Ctr9"
      },
      "execution_count": 4,
      "outputs": []
    },
    {
      "cell_type": "markdown",
      "source": [
        "## Build VAE Model"
      ],
      "metadata": {
        "id": "pbkXI_VezGMK"
      }
    },
    {
      "cell_type": "code",
      "source": [
        "# clone WildTrack repo to obtain VAE library\n",
        "!git clone https://github.com/WildTrackAI/wildtrack-iqa.git\n",
        "!cp wildtrack-iqa/vae/vae.py vae.py"
      ],
      "metadata": {
        "colab": {
          "base_uri": "https://localhost:8080/"
        },
        "id": "sCyEOs41wp5t",
        "outputId": "41458110-b4a9-4810-de6d-e04b7deaca05"
      },
      "execution_count": 5,
      "outputs": [
        {
          "output_type": "stream",
          "name": "stdout",
          "text": [
            "Cloning into 'wildtrack-iqa'...\n",
            "remote: Enumerating objects: 143, done.\u001b[K\n",
            "remote: Counting objects: 100% (60/60), done.\u001b[K\n",
            "remote: Compressing objects: 100% (38/38), done.\u001b[K\n",
            "remote: Total 143 (delta 36), reused 27 (delta 21), pack-reused 83\u001b[K\n",
            "Receiving objects: 100% (143/143), 2.66 MiB | 16.40 MiB/s, done.\n",
            "Resolving deltas: 100% (52/52), done.\n"
          ]
        }
      ]
    },
    {
      "cell_type": "code",
      "source": [
        "!pip install tensorflow-addons\n",
        "\n",
        "import tensorflow as tf\n",
        "from tensorflow import keras\n",
        "import vae\n",
        "from vae import VAE\n",
        "import tensorflow_addons as tfa\n",
        "\n",
        "encoder = vae.create_encoder()\n",
        "decoder = vae.create_decoder()\n",
        "vae = VAE(encoder, decoder)\n",
        "vae.compile(optimizer=tfa.optimizers.AdamW(learning_rate=.000000001 , weight_decay=.0001))"
      ],
      "metadata": {
        "colab": {
          "base_uri": "https://localhost:8080/"
        },
        "id": "QkPsov_qxf3_",
        "outputId": "fc691689-9303-4431-b9d0-29f3b3edfb50"
      },
      "execution_count": 39,
      "outputs": [
        {
          "output_type": "stream",
          "name": "stdout",
          "text": [
            "Looking in indexes: https://pypi.org/simple, https://us-python.pkg.dev/colab-wheels/public/simple/\n",
            "Requirement already satisfied: tensorflow-addons in /usr/local/lib/python3.7/dist-packages (0.18.0)\n",
            "Requirement already satisfied: typeguard>=2.7 in /usr/local/lib/python3.7/dist-packages (from tensorflow-addons) (2.7.1)\n",
            "Requirement already satisfied: packaging in /usr/local/lib/python3.7/dist-packages (from tensorflow-addons) (21.3)\n",
            "Requirement already satisfied: pyparsing!=3.0.5,>=2.0.2 in /usr/local/lib/python3.7/dist-packages (from packaging->tensorflow-addons) (3.0.9)\n"
          ]
        }
      ]
    },
    {
      "cell_type": "code",
      "source": [
        "# confirm network structure for encoding images\n",
        "encoder.summary()"
      ],
      "metadata": {
        "colab": {
          "base_uri": "https://localhost:8080/"
        },
        "id": "-i9FXQF0xku1",
        "outputId": "07b15e10-0ec4-4f5c-cc6e-399dd98b9167"
      },
      "execution_count": 40,
      "outputs": [
        {
          "output_type": "stream",
          "name": "stdout",
          "text": [
            "Model: \"encoder\"\n",
            "__________________________________________________________________________________________________\n",
            " Layer (type)                   Output Shape         Param #     Connected to                     \n",
            "==================================================================================================\n",
            " input_9 (InputLayer)           [(None, 512, 512, 1  0           []                               \n",
            "                                )]                                                                \n",
            "                                                                                                  \n",
            " conv2d_12 (Conv2D)             (None, 256, 256, 32  320         ['input_9[0][0]']                \n",
            "                                )                                                                 \n",
            "                                                                                                  \n",
            " conv2d_13 (Conv2D)             (None, 128, 128, 64  18496       ['conv2d_12[0][0]']              \n",
            "                                )                                                                 \n",
            "                                                                                                  \n",
            " flatten_4 (Flatten)            (None, 1048576)      0           ['conv2d_13[0][0]']              \n",
            "                                                                                                  \n",
            " dense_8 (Dense)                (None, 16)           16777232    ['flatten_4[0][0]']              \n",
            "                                                                                                  \n",
            " z_mean (Dense)                 (None, 100)          1700        ['dense_8[0][0]']                \n",
            "                                                                                                  \n",
            " z_log_var (Dense)              (None, 100)          1700        ['dense_8[0][0]']                \n",
            "                                                                                                  \n",
            "==================================================================================================\n",
            "Total params: 16,799,448\n",
            "Trainable params: 16,799,448\n",
            "Non-trainable params: 0\n",
            "__________________________________________________________________________________________________\n"
          ]
        }
      ]
    },
    {
      "cell_type": "code",
      "source": [
        "# confirm network structure for decoding images\n",
        "decoder.summary()"
      ],
      "metadata": {
        "colab": {
          "base_uri": "https://localhost:8080/"
        },
        "id": "0C6k2N_546rB",
        "outputId": "07879757-14d0-4868-9575-df49fed4a64f"
      },
      "execution_count": 41,
      "outputs": [
        {
          "output_type": "stream",
          "name": "stdout",
          "text": [
            "Model: \"decoder\"\n",
            "_________________________________________________________________\n",
            " Layer (type)                Output Shape              Param #   \n",
            "=================================================================\n",
            " input_10 (InputLayer)       [(None, 100)]             0         \n",
            "                                                                 \n",
            " dense_9 (Dense)             (None, 1048576)           105906176 \n",
            "                                                                 \n",
            " reshape_4 (Reshape)         (None, 128, 128, 64)      0         \n",
            "                                                                 \n",
            " conv2d_transpose_8 (Conv2DT  (None, 256, 256, 64)     4160      \n",
            " ranspose)                                                       \n",
            "                                                                 \n",
            " conv2d_transpose_9 (Conv2DT  (None, 512, 512, 32)     2080      \n",
            " ranspose)                                                       \n",
            "                                                                 \n",
            " conv2d_14 (Conv2D)          (None, 512, 512, 1)       33        \n",
            "                                                                 \n",
            "=================================================================\n",
            "Total params: 105,912,449\n",
            "Trainable params: 105,912,449\n",
            "Non-trainable params: 0\n",
            "_________________________________________________________________\n"
          ]
        }
      ]
    },
    {
      "cell_type": "markdown",
      "metadata": {
        "id": "jDPzzcknueMc"
      },
      "source": [
        "## Model Training"
      ]
    },
    {
      "cell_type": "code",
      "metadata": {
        "id": "YonlhZOfueMd"
      },
      "source": [
        "# Prepare training data. Train on only data we know will be classifiable so that it can recognize unclassifiable images as an anomaly\n",
        "\n",
        "X_train = np.array([item[4] for item in train])\n",
        "y_train = np.array([item[5] for item in train])\n",
        "\n",
        "X_val = np.array([item[4] for item in validation])\n",
        "y_val = np.array([item[5] for item in validation])\n",
        "\n",
        "X_test = np.array([item[4] for item in test])\n",
        "y_test = np.array([item[5] for item in test])\n",
        "\n",
        "X_usable_train, X_reject_train = X_train[y_train == 1], X_train[y_train == 0]\n",
        "X_usable_val, X_reject_val = X_val[y_val == 1], X_val[y_val == 0]\n",
        "X_usable_test, X_reject_test = X_test[y_test == 1], X_test[y_test == 0]"
      ],
      "execution_count": 42,
      "outputs": []
    },
    {
      "cell_type": "code",
      "source": [
        "# Train the autoencoder\n",
        "from tensorflow.keras.callbacks import EarlyStopping\n",
        "\n",
        "# We pass the same value for x and y because we want to recreate the input, Basically f(x) = x\n",
        "tf_train = tf.data.Dataset.from_tensor_slices((X_usable_train, X_usable_train)).batch(64)\n",
        "tf_val = tf.data.Dataset.from_tensor_slices((X_usable_val, X_usable_val)).batch(64)\n",
        "tf_test = tf.data.Dataset.from_tensor_slices((X_usable_test, X_usable_test)).batch(64)\n",
        "\n",
        "earlystopper = EarlyStopping(monitor='val_total_loss', mode='min', min_delta=0.0001, patience=10, verbose=1, restore_best_weights=True)\n",
        "max_epochs = 50\n",
        "hist = vae.fit(tf_train, epochs=max_epochs,  shuffle=True, callbacks=[earlystopper], validation_data=tf_val)\n",
        "model_path = 'vae_model'\n",
        "if not os.path.exists(model_path):\n",
        "  os.mkdir(model_path)\n",
        "vae.save_model(model_path)"
      ],
      "metadata": {
        "colab": {
          "base_uri": "https://localhost:8080/"
        },
        "id": "lqpIQyxobxm_",
        "outputId": "3d696807-b85d-4b87-d183-96594e29ca2a"
      },
      "execution_count": 43,
      "outputs": [
        {
          "output_type": "stream",
          "name": "stdout",
          "text": [
            "Epoch 1/50\n",
            "28/28 [==============================] - 100s 4s/step - total_loss: 6968849.5000 - reconstruction_loss: 6968849.5000 - kl_loss: 8.0922e-04 - val_total_loss: 1734832.2500 - val_reconstruction_loss: 1734832.2500 - val_kl_loss: 4.3008e-04\n",
            "Epoch 2/50\n",
            "28/28 [==============================] - 98s 3s/step - total_loss: 6968848.5000 - reconstruction_loss: 6968848.5000 - kl_loss: 7.9139e-04 - val_total_loss: 1734830.7500 - val_reconstruction_loss: 1734830.7500 - val_kl_loss: 4.2050e-04\n",
            "Epoch 3/50\n",
            "28/28 [==============================] - 98s 3s/step - total_loss: 6968849.0000 - reconstruction_loss: 6968849.0000 - kl_loss: 7.7402e-04 - val_total_loss: 1734832.2500 - val_reconstruction_loss: 1734832.2500 - val_kl_loss: 4.1122e-04\n",
            "Epoch 4/50\n",
            "28/28 [==============================] - 98s 4s/step - total_loss: 6968849.0000 - reconstruction_loss: 6968849.0000 - kl_loss: 7.5704e-04 - val_total_loss: 1734831.1250 - val_reconstruction_loss: 1734831.1250 - val_kl_loss: 4.0237e-04\n",
            "Epoch 5/50\n",
            "28/28 [==============================] - 98s 4s/step - total_loss: 6968848.5000 - reconstruction_loss: 6968848.5000 - kl_loss: 7.4097e-04 - val_total_loss: 1734832.3750 - val_reconstruction_loss: 1734832.3750 - val_kl_loss: 3.9380e-04\n",
            "Epoch 6/50\n",
            "28/28 [==============================] - 98s 3s/step - total_loss: 6968847.5000 - reconstruction_loss: 6968847.5000 - kl_loss: 7.2542e-04 - val_total_loss: 1734831.3750 - val_reconstruction_loss: 1734831.3750 - val_kl_loss: 3.8529e-04\n",
            "Epoch 7/50\n",
            "28/28 [==============================] - 98s 3s/step - total_loss: 6968848.5000 - reconstruction_loss: 6968848.5000 - kl_loss: 7.0990e-04 - val_total_loss: 1734831.5000 - val_reconstruction_loss: 1734831.5000 - val_kl_loss: 3.7705e-04\n",
            "Epoch 8/50\n",
            "28/28 [==============================] - 98s 4s/step - total_loss: 6968848.0000 - reconstruction_loss: 6968848.0000 - kl_loss: 6.9473e-04 - val_total_loss: 1734832.1250 - val_reconstruction_loss: 1734832.1250 - val_kl_loss: 3.6889e-04\n",
            "Epoch 9/50\n",
            "28/28 [==============================] - 104s 4s/step - total_loss: 6968848.0000 - reconstruction_loss: 6968848.0000 - kl_loss: 6.7976e-04 - val_total_loss: 1734832.2500 - val_reconstruction_loss: 1734832.2500 - val_kl_loss: 3.6073e-04\n",
            "Epoch 10/50\n",
            "28/28 [==============================] - 104s 4s/step - total_loss: 6968847.5000 - reconstruction_loss: 6968847.5000 - kl_loss: 6.6512e-04 - val_total_loss: 1734831.5000 - val_reconstruction_loss: 1734831.5000 - val_kl_loss: 3.5319e-04\n",
            "Epoch 11/50\n",
            "28/28 [==============================] - 100s 4s/step - total_loss: 6968847.0000 - reconstruction_loss: 6968847.0000 - kl_loss: 6.5144e-04 - val_total_loss: 1734832.0000 - val_reconstruction_loss: 1734832.0000 - val_kl_loss: 3.4547e-04\n",
            "Epoch 12/50\n",
            "28/28 [==============================] - ETA: 0s - total_loss: 6968847.5000 - reconstruction_loss: 6968847.5000 - kl_loss: 6.3725e-04Restoring model weights from the end of the best epoch: 2.\n",
            "28/28 [==============================] - 99s 4s/step - total_loss: 6968847.5000 - reconstruction_loss: 6968847.5000 - kl_loss: 6.3725e-04 - val_total_loss: 1734832.1250 - val_reconstruction_loss: 1734832.1250 - val_kl_loss: 3.3782e-04\n",
            "Epoch 12: early stopping\n"
          ]
        }
      ]
    },
    {
      "cell_type": "code",
      "source": [
        "X_sample_test = X_test[0:200]\n",
        "y_sample_test = y_test[0:200]\n",
        "\n",
        "z_mean, z_log_var = vae.encoder(X_sample_test)\n",
        "sample = vae.sampler(z_mean, z_log_var)\n",
        "decoded = vae.decoder(sample)\n",
        "\n",
        "mse = np.mean(np.power(X_sample_test - decoded, 2), axis=1)\n",
        "sum_mse = np.array([np.matrix(item).sum() for item in mse])"
      ],
      "metadata": {
        "id": "n93L1fI9cknS"
      },
      "execution_count": 44,
      "outputs": []
    },
    {
      "cell_type": "markdown",
      "source": [
        "## Data Analysis\n",
        "\n",
        "The goal is to assess the mean squared error when attempting to recreate the image, separated by data that could be classified by the model vs data that could not be classified (noted as 1 and 0 respectively). "
      ],
      "metadata": {
        "id": "GUavKNeAzzGw"
      }
    },
    {
      "cell_type": "code",
      "source": [
        "import pandas as pd\n",
        "\n",
        "# swap quality class 1 - bad quality, 0 quality\n",
        "\n",
        "y_sample_test_class = [ 1 if x == 0 else 0 for x in y_sample_test]\n",
        "\n",
        "# gather the mean square error calculated from the model and align with classification ability\n",
        "error_df_test = pd.DataFrame({'mse': sum_mse, 'class': y_sample_test_class})\n",
        "error_df_test.describe()"
      ],
      "metadata": {
        "colab": {
          "base_uri": "https://localhost:8080/",
          "height": 301
        },
        "id": "fiI9M3iGLsXd",
        "outputId": "4ca1ffdd-5c6c-48a5-d135-5d1ffa9fc361"
      },
      "execution_count": 45,
      "outputs": [
        {
          "output_type": "execute_result",
          "data": {
            "text/plain": [
              "               mse       class\n",
              "count       200.00  200.000000\n",
              "mean    9940534.00    0.220000\n",
              "std     2596006.00    0.415286\n",
              "min     2479315.25    0.000000\n",
              "25%     8256798.75    0.000000\n",
              "50%     9849038.00    0.000000\n",
              "75%    11593883.50    0.000000\n",
              "max    18050746.00    1.000000"
            ],
            "text/html": [
              "\n",
              "  <div id=\"df-6e6ed15b-1cc9-420a-92a4-e69456198467\">\n",
              "    <div class=\"colab-df-container\">\n",
              "      <div>\n",
              "<style scoped>\n",
              "    .dataframe tbody tr th:only-of-type {\n",
              "        vertical-align: middle;\n",
              "    }\n",
              "\n",
              "    .dataframe tbody tr th {\n",
              "        vertical-align: top;\n",
              "    }\n",
              "\n",
              "    .dataframe thead th {\n",
              "        text-align: right;\n",
              "    }\n",
              "</style>\n",
              "<table border=\"1\" class=\"dataframe\">\n",
              "  <thead>\n",
              "    <tr style=\"text-align: right;\">\n",
              "      <th></th>\n",
              "      <th>mse</th>\n",
              "      <th>class</th>\n",
              "    </tr>\n",
              "  </thead>\n",
              "  <tbody>\n",
              "    <tr>\n",
              "      <th>count</th>\n",
              "      <td>200.00</td>\n",
              "      <td>200.000000</td>\n",
              "    </tr>\n",
              "    <tr>\n",
              "      <th>mean</th>\n",
              "      <td>9940534.00</td>\n",
              "      <td>0.220000</td>\n",
              "    </tr>\n",
              "    <tr>\n",
              "      <th>std</th>\n",
              "      <td>2596006.00</td>\n",
              "      <td>0.415286</td>\n",
              "    </tr>\n",
              "    <tr>\n",
              "      <th>min</th>\n",
              "      <td>2479315.25</td>\n",
              "      <td>0.000000</td>\n",
              "    </tr>\n",
              "    <tr>\n",
              "      <th>25%</th>\n",
              "      <td>8256798.75</td>\n",
              "      <td>0.000000</td>\n",
              "    </tr>\n",
              "    <tr>\n",
              "      <th>50%</th>\n",
              "      <td>9849038.00</td>\n",
              "      <td>0.000000</td>\n",
              "    </tr>\n",
              "    <tr>\n",
              "      <th>75%</th>\n",
              "      <td>11593883.50</td>\n",
              "      <td>0.000000</td>\n",
              "    </tr>\n",
              "    <tr>\n",
              "      <th>max</th>\n",
              "      <td>18050746.00</td>\n",
              "      <td>1.000000</td>\n",
              "    </tr>\n",
              "  </tbody>\n",
              "</table>\n",
              "</div>\n",
              "      <button class=\"colab-df-convert\" onclick=\"convertToInteractive('df-6e6ed15b-1cc9-420a-92a4-e69456198467')\"\n",
              "              title=\"Convert this dataframe to an interactive table.\"\n",
              "              style=\"display:none;\">\n",
              "        \n",
              "  <svg xmlns=\"http://www.w3.org/2000/svg\" height=\"24px\"viewBox=\"0 0 24 24\"\n",
              "       width=\"24px\">\n",
              "    <path d=\"M0 0h24v24H0V0z\" fill=\"none\"/>\n",
              "    <path d=\"M18.56 5.44l.94 2.06.94-2.06 2.06-.94-2.06-.94-.94-2.06-.94 2.06-2.06.94zm-11 1L8.5 8.5l.94-2.06 2.06-.94-2.06-.94L8.5 2.5l-.94 2.06-2.06.94zm10 10l.94 2.06.94-2.06 2.06-.94-2.06-.94-.94-2.06-.94 2.06-2.06.94z\"/><path d=\"M17.41 7.96l-1.37-1.37c-.4-.4-.92-.59-1.43-.59-.52 0-1.04.2-1.43.59L10.3 9.45l-7.72 7.72c-.78.78-.78 2.05 0 2.83L4 21.41c.39.39.9.59 1.41.59.51 0 1.02-.2 1.41-.59l7.78-7.78 2.81-2.81c.8-.78.8-2.07 0-2.86zM5.41 20L4 18.59l7.72-7.72 1.47 1.35L5.41 20z\"/>\n",
              "  </svg>\n",
              "      </button>\n",
              "      \n",
              "  <style>\n",
              "    .colab-df-container {\n",
              "      display:flex;\n",
              "      flex-wrap:wrap;\n",
              "      gap: 12px;\n",
              "    }\n",
              "\n",
              "    .colab-df-convert {\n",
              "      background-color: #E8F0FE;\n",
              "      border: none;\n",
              "      border-radius: 50%;\n",
              "      cursor: pointer;\n",
              "      display: none;\n",
              "      fill: #1967D2;\n",
              "      height: 32px;\n",
              "      padding: 0 0 0 0;\n",
              "      width: 32px;\n",
              "    }\n",
              "\n",
              "    .colab-df-convert:hover {\n",
              "      background-color: #E2EBFA;\n",
              "      box-shadow: 0px 1px 2px rgba(60, 64, 67, 0.3), 0px 1px 3px 1px rgba(60, 64, 67, 0.15);\n",
              "      fill: #174EA6;\n",
              "    }\n",
              "\n",
              "    [theme=dark] .colab-df-convert {\n",
              "      background-color: #3B4455;\n",
              "      fill: #D2E3FC;\n",
              "    }\n",
              "\n",
              "    [theme=dark] .colab-df-convert:hover {\n",
              "      background-color: #434B5C;\n",
              "      box-shadow: 0px 1px 3px 1px rgba(0, 0, 0, 0.15);\n",
              "      filter: drop-shadow(0px 1px 2px rgba(0, 0, 0, 0.3));\n",
              "      fill: #FFFFFF;\n",
              "    }\n",
              "  </style>\n",
              "\n",
              "      <script>\n",
              "        const buttonEl =\n",
              "          document.querySelector('#df-6e6ed15b-1cc9-420a-92a4-e69456198467 button.colab-df-convert');\n",
              "        buttonEl.style.display =\n",
              "          google.colab.kernel.accessAllowed ? 'block' : 'none';\n",
              "\n",
              "        async function convertToInteractive(key) {\n",
              "          const element = document.querySelector('#df-6e6ed15b-1cc9-420a-92a4-e69456198467');\n",
              "          const dataTable =\n",
              "            await google.colab.kernel.invokeFunction('convertToInteractive',\n",
              "                                                     [key], {});\n",
              "          if (!dataTable) return;\n",
              "\n",
              "          const docLinkHtml = 'Like what you see? Visit the ' +\n",
              "            '<a target=\"_blank\" href=https://colab.research.google.com/notebooks/data_table.ipynb>data table notebook</a>'\n",
              "            + ' to learn more about interactive tables.';\n",
              "          element.innerHTML = '';\n",
              "          dataTable['output_type'] = 'display_data';\n",
              "          await google.colab.output.renderOutput(dataTable, element);\n",
              "          const docLink = document.createElement('div');\n",
              "          docLink.innerHTML = docLinkHtml;\n",
              "          element.appendChild(docLink);\n",
              "        }\n",
              "      </script>\n",
              "    </div>\n",
              "  </div>\n",
              "  "
            ]
          },
          "metadata": {},
          "execution_count": 45
        }
      ]
    },
    {
      "cell_type": "code",
      "source": [
        "# group data by classification and calculate basic statistics for mse\n",
        "group_calculation = error_df_test[['mse','class']].groupby(\"class\").describe()\n",
        "group_calculation"
      ],
      "metadata": {
        "colab": {
          "base_uri": "https://localhost:8080/",
          "height": 175
        },
        "id": "bifwNgcQcokO",
        "outputId": "2c5a2a60-eb3c-42a3-9725-e4d705bb8cd0"
      },
      "execution_count": 46,
      "outputs": [
        {
          "output_type": "execute_result",
          "data": {
            "text/plain": [
              "         mse                                                              \\\n",
              "       count        mean         std         min          25%        50%   \n",
              "class                                                                      \n",
              "0      156.0   9844734.0  2646075.25  2479315.25  8240829.125  9849038.0   \n",
              "1       44.0  10280188.0  2408014.00  6477302.00  8333459.000  9875011.0   \n",
              "\n",
              "                               \n",
              "              75%         max  \n",
              "class                          \n",
              "0      11492743.5  18050746.0  \n",
              "1      12031680.0  16969328.0  "
            ],
            "text/html": [
              "\n",
              "  <div id=\"df-8bbbc455-ca4f-4628-820a-e3b961e7242a\">\n",
              "    <div class=\"colab-df-container\">\n",
              "      <div>\n",
              "<style scoped>\n",
              "    .dataframe tbody tr th:only-of-type {\n",
              "        vertical-align: middle;\n",
              "    }\n",
              "\n",
              "    .dataframe tbody tr th {\n",
              "        vertical-align: top;\n",
              "    }\n",
              "\n",
              "    .dataframe thead tr th {\n",
              "        text-align: left;\n",
              "    }\n",
              "\n",
              "    .dataframe thead tr:last-of-type th {\n",
              "        text-align: right;\n",
              "    }\n",
              "</style>\n",
              "<table border=\"1\" class=\"dataframe\">\n",
              "  <thead>\n",
              "    <tr>\n",
              "      <th></th>\n",
              "      <th colspan=\"8\" halign=\"left\">mse</th>\n",
              "    </tr>\n",
              "    <tr>\n",
              "      <th></th>\n",
              "      <th>count</th>\n",
              "      <th>mean</th>\n",
              "      <th>std</th>\n",
              "      <th>min</th>\n",
              "      <th>25%</th>\n",
              "      <th>50%</th>\n",
              "      <th>75%</th>\n",
              "      <th>max</th>\n",
              "    </tr>\n",
              "    <tr>\n",
              "      <th>class</th>\n",
              "      <th></th>\n",
              "      <th></th>\n",
              "      <th></th>\n",
              "      <th></th>\n",
              "      <th></th>\n",
              "      <th></th>\n",
              "      <th></th>\n",
              "      <th></th>\n",
              "    </tr>\n",
              "  </thead>\n",
              "  <tbody>\n",
              "    <tr>\n",
              "      <th>0</th>\n",
              "      <td>156.0</td>\n",
              "      <td>9844734.0</td>\n",
              "      <td>2646075.25</td>\n",
              "      <td>2479315.25</td>\n",
              "      <td>8240829.125</td>\n",
              "      <td>9849038.0</td>\n",
              "      <td>11492743.5</td>\n",
              "      <td>18050746.0</td>\n",
              "    </tr>\n",
              "    <tr>\n",
              "      <th>1</th>\n",
              "      <td>44.0</td>\n",
              "      <td>10280188.0</td>\n",
              "      <td>2408014.00</td>\n",
              "      <td>6477302.00</td>\n",
              "      <td>8333459.000</td>\n",
              "      <td>9875011.0</td>\n",
              "      <td>12031680.0</td>\n",
              "      <td>16969328.0</td>\n",
              "    </tr>\n",
              "  </tbody>\n",
              "</table>\n",
              "</div>\n",
              "      <button class=\"colab-df-convert\" onclick=\"convertToInteractive('df-8bbbc455-ca4f-4628-820a-e3b961e7242a')\"\n",
              "              title=\"Convert this dataframe to an interactive table.\"\n",
              "              style=\"display:none;\">\n",
              "        \n",
              "  <svg xmlns=\"http://www.w3.org/2000/svg\" height=\"24px\"viewBox=\"0 0 24 24\"\n",
              "       width=\"24px\">\n",
              "    <path d=\"M0 0h24v24H0V0z\" fill=\"none\"/>\n",
              "    <path d=\"M18.56 5.44l.94 2.06.94-2.06 2.06-.94-2.06-.94-.94-2.06-.94 2.06-2.06.94zm-11 1L8.5 8.5l.94-2.06 2.06-.94-2.06-.94L8.5 2.5l-.94 2.06-2.06.94zm10 10l.94 2.06.94-2.06 2.06-.94-2.06-.94-.94-2.06-.94 2.06-2.06.94z\"/><path d=\"M17.41 7.96l-1.37-1.37c-.4-.4-.92-.59-1.43-.59-.52 0-1.04.2-1.43.59L10.3 9.45l-7.72 7.72c-.78.78-.78 2.05 0 2.83L4 21.41c.39.39.9.59 1.41.59.51 0 1.02-.2 1.41-.59l7.78-7.78 2.81-2.81c.8-.78.8-2.07 0-2.86zM5.41 20L4 18.59l7.72-7.72 1.47 1.35L5.41 20z\"/>\n",
              "  </svg>\n",
              "      </button>\n",
              "      \n",
              "  <style>\n",
              "    .colab-df-container {\n",
              "      display:flex;\n",
              "      flex-wrap:wrap;\n",
              "      gap: 12px;\n",
              "    }\n",
              "\n",
              "    .colab-df-convert {\n",
              "      background-color: #E8F0FE;\n",
              "      border: none;\n",
              "      border-radius: 50%;\n",
              "      cursor: pointer;\n",
              "      display: none;\n",
              "      fill: #1967D2;\n",
              "      height: 32px;\n",
              "      padding: 0 0 0 0;\n",
              "      width: 32px;\n",
              "    }\n",
              "\n",
              "    .colab-df-convert:hover {\n",
              "      background-color: #E2EBFA;\n",
              "      box-shadow: 0px 1px 2px rgba(60, 64, 67, 0.3), 0px 1px 3px 1px rgba(60, 64, 67, 0.15);\n",
              "      fill: #174EA6;\n",
              "    }\n",
              "\n",
              "    [theme=dark] .colab-df-convert {\n",
              "      background-color: #3B4455;\n",
              "      fill: #D2E3FC;\n",
              "    }\n",
              "\n",
              "    [theme=dark] .colab-df-convert:hover {\n",
              "      background-color: #434B5C;\n",
              "      box-shadow: 0px 1px 3px 1px rgba(0, 0, 0, 0.15);\n",
              "      filter: drop-shadow(0px 1px 2px rgba(0, 0, 0, 0.3));\n",
              "      fill: #FFFFFF;\n",
              "    }\n",
              "  </style>\n",
              "\n",
              "      <script>\n",
              "        const buttonEl =\n",
              "          document.querySelector('#df-8bbbc455-ca4f-4628-820a-e3b961e7242a button.colab-df-convert');\n",
              "        buttonEl.style.display =\n",
              "          google.colab.kernel.accessAllowed ? 'block' : 'none';\n",
              "\n",
              "        async function convertToInteractive(key) {\n",
              "          const element = document.querySelector('#df-8bbbc455-ca4f-4628-820a-e3b961e7242a');\n",
              "          const dataTable =\n",
              "            await google.colab.kernel.invokeFunction('convertToInteractive',\n",
              "                                                     [key], {});\n",
              "          if (!dataTable) return;\n",
              "\n",
              "          const docLinkHtml = 'Like what you see? Visit the ' +\n",
              "            '<a target=\"_blank\" href=https://colab.research.google.com/notebooks/data_table.ipynb>data table notebook</a>'\n",
              "            + ' to learn more about interactive tables.';\n",
              "          element.innerHTML = '';\n",
              "          dataTable['output_type'] = 'display_data';\n",
              "          await google.colab.output.renderOutput(dataTable, element);\n",
              "          const docLink = document.createElement('div');\n",
              "          docLink.innerHTML = docLinkHtml;\n",
              "          element.appendChild(docLink);\n",
              "        }\n",
              "      </script>\n",
              "    </div>\n",
              "  </div>\n",
              "  "
            ]
          },
          "metadata": {},
          "execution_count": 46
        }
      ]
    },
    {
      "cell_type": "code",
      "source": [
        "plt.hist(error_df_test['mse'], bins=5, alpha=0.5, label='mse')\n",
        "plt.legend(loc='upper right')\n",
        "plt.show()"
      ],
      "metadata": {
        "colab": {
          "base_uri": "https://localhost:8080/",
          "height": 278
        },
        "id": "EzJVCWqMAK-m",
        "outputId": "f4e0180e-ac21-4bec-de95-8e2b1a9730be"
      },
      "execution_count": 47,
      "outputs": [
        {
          "output_type": "display_data",
          "data": {
            "text/plain": [
              "<Figure size 432x288 with 1 Axes>"
            ],
            "image/png": "[encoded data removed]"
          },
          "metadata": {
            "needs_background": "light"
          }
        }
      ]
    },
    {
      "cell_type": "code",
      "source": [
        "# Create a ROC and Precision Curve to assess how well we can claassify based on mse\n",
        "\n",
        "from sklearn.metrics import confusion_matrix , roc_auc_score, roc_curve, auc, classification_report, average_precision_score, precision_recall_curve\n",
        "\n",
        "fpr, tpr, thresholds = roc_curve(error_df_test['class'], error_df_test['mse'])\n",
        "roc_auc = auc(fpr, tpr)\n",
        "\n",
        "precision, recall, thresholds = precision_recall_curve(error_df_test['class'], error_df_test['mse'])\n",
        "avg_pr = average_precision_score(error_df_test['class'], error_df_test['mse'])\n",
        "\n",
        "no_skill = len(error_df_test['class'][error_df_test['class']==1]) / len(error_df_test['class'])\n",
        "\n",
        "fig, axs = plt.subplots(1, 2, figsize=(15,10))\n",
        "axs[0].set_title('Receiver Operating Characteristic')\n",
        "axs[0].plot(fpr, tpr, label='AUC = %0.4f'% roc_auc)\n",
        "axs[0].legend(loc='lower right')\n",
        "axs[0].plot([0,1],[0,1],'r--')\n",
        "axs[0].set_xlim([-0.001, 1])\n",
        "axs[0].set_ylim([0, 1.001])\n",
        "axs[0].set_ylabel('True Positive Rate')\n",
        "axs[0].set_xlabel('False Positive Rate')\n",
        "\n",
        "axs[1].set_title('Precision-Recall Curve')\n",
        "axs[1].plot(recall, precision, label='Avg Precision = %0.4f'% avg_pr)\n",
        "axs[1].legend(loc='upper right')\n",
        "axs[1].plot([0, 1], [no_skill, no_skill], linestyle='--', label='No Skill')\n",
        "axs[1].set_xlim([-0.001, 1])\n",
        "axs[1].set_ylim([0, 1.001])\n",
        "axs[1].set_ylabel('Precision')\n",
        "axs[1].set_xlabel('Recall')\n",
        "plt.show();"
      ],
      "metadata": {
        "colab": {
          "base_uri": "https://localhost:8080/",
          "height": 621
        },
        "id": "_4vJ9xdeOlrH",
        "outputId": "5794c151-bd9e-4704-989b-7a8994b87b0f"
      },
      "execution_count": 48,
      "outputs": [
        {
          "output_type": "display_data",
          "data": {
            "text/plain": [
              "<Figure size 1080x720 with 2 Axes>"
            ],
            "image/png": "[encoded data removed]"
          },
          "metadata": {
            "needs_background": "light"
          }
        }
      ]
    },
    {
      "cell_type": "markdown",
      "source": [
        "AUC indicates that prediction is better than average overall at 0.5414, however the precision in determining an image is unusable is very low at 0.2593"
      ],
      "metadata": {
        "id": "QGu07zQU16qC"
      }
    },
    {
      "cell_type": "code",
      "source": [
        "# Graph data to see if there is a clear threshold revealed between clasifiable non-classifiable images\n",
        "\n",
        "classifiable = error_df_test[(error_df_test['class'] == 0)].mse.values\n",
        "not_classifiable = error_df_test[(error_df_test['class'] == 1)].mse.values\n",
        "\n",
        "plt.hist(not_classifiable, bins=100, alpha=0.5, label='not usable')\n",
        "plt.hist(classifiable, bins=100, alpha=0.5, label='usable')\n",
        "plt.legend(loc='upper right')\n",
        "plt.show()\n"
      ],
      "metadata": {
        "colab": {
          "base_uri": "https://localhost:8080/",
          "height": 278
        },
        "id": "gd2RIwXfPRsS",
        "outputId": "183f8e6a-a88b-4091-c3c2-607c7a602547"
      },
      "execution_count": 49,
      "outputs": [
        {
          "output_type": "display_data",
          "data": {
            "text/plain": [
              "<Figure size 432x288 with 1 Axes>"
            ],
            "image/png": "[encoded data removed]"
          },
          "metadata": {
            "needs_background": "light"
          }
        }
      ]
    },
    {
      "cell_type": "markdown",
      "source": [
        "There is significant overlap except for data less than 0.6. We'll dig a bit deeper to determine what is the best threshold to use for both precision and recall when determining high quality images."
      ],
      "metadata": {
        "id": "s6JivJg32al2"
      }
    },
    {
      "cell_type": "code",
      "source": [
        "import warnings\n",
        "warnings.filterwarnings(\"ignore\")\n",
        "\n",
        "#Let's evaluate for best threshold using precision/recall measures\n",
        "precisions = []\n",
        "recalls = []\n",
        "\n",
        "for threshold in thresholds:\n",
        "  predictions = [0 if x > threshold else 1 for x in error_df_test[\"mse\"]]\n",
        "  classification = classification_report(error_df_test[\"class\"], predictions, output_dict=True)['1']\n",
        "  precisions.append(classification['precision'])\n",
        "  recalls.append(classification['recall'])\n",
        "\n",
        "plt.plot(thresholds, precisions, label=\"Precision\",linewidth=5)\n",
        "plt.plot(thresholds, recalls, label=\"Recall\",linewidth=5)\n",
        "plt.title('Precision vs. Recall by Threshold for Image Quality')\n",
        "plt.xlabel('Threshold')\n",
        "plt.ylabel('Precision/Recall')\n",
        "plt.legend()\n",
        "plt.show()"
      ],
      "metadata": {
        "colab": {
          "base_uri": "https://localhost:8080/",
          "height": 295
        },
        "id": "_HmTQMclVSPR",
        "outputId": "1464ba03-6510-4c04-a99e-c06a1bb644f5"
      },
      "execution_count": 50,
      "outputs": [
        {
          "output_type": "display_data",
          "data": {
            "text/plain": [
              "<Figure size 432x288 with 1 Axes>"
            ],
            "image/png": "[encoded data removed]"
          },
          "metadata": {
            "needs_background": "light"
          }
        }
      ]
    },
    {
      "cell_type": "markdown",
      "source": [
        "The optimal threshold to use for prediction is the point where both precision and recall are at it's best.  In reviewing the above chart this appears at approximately mse 0.8e7. For predictions we will use that to identify high quality images vs low quality and review the results"
      ],
      "metadata": {
        "id": "gJe-XBYN3SOO"
      }
    },
    {
      "cell_type": "code",
      "source": [
        "predictions = [0 if x > 0.8e7 else 1 for x in error_df_test[\"mse\"]]"
      ],
      "metadata": {
        "id": "mTNvuRKQTX0w"
      },
      "execution_count": 51,
      "outputs": []
    },
    {
      "cell_type": "code",
      "source": [
        "import seaborn as sns\n",
        "labels = [\"Usable\",\"Not Usable\"]\n",
        "conf_matrix = confusion_matrix(error_df_test['class'],predictions)\n",
        "plt.figure(figsize=(8, 8))\n",
        "sns.heatmap(conf_matrix, xticklabels=labels, yticklabels=labels, annot=True, fmt=\"d\");\n",
        "plt.title(\"Image Quality Confusion Matrix\")\n",
        "plt.ylabel('True')\n",
        "plt.xlabel('Prediction')\n",
        "plt.show()"
      ],
      "metadata": {
        "colab": {
          "base_uri": "https://localhost:8080/",
          "height": 513
        },
        "id": "49ZaCZ7BT7Kp",
        "outputId": "5431ce59-b391-4197-8cce-ac158c025a55"
      },
      "execution_count": 52,
      "outputs": [
        {
          "output_type": "display_data",
          "data": {
            "text/plain": [
              "<Figure size 576x576 with 2 Axes>"
            ],
            "image/png": "[encoded data removed]"
          },
          "metadata": {
            "needs_background": "light"
          }
        }
      ]
    },
    {
      "cell_type": "code",
      "source": [
        "print(classification_report(error_df_test[\"class\"], predictions))"
      ],
      "metadata": {
        "colab": {
          "base_uri": "https://localhost:8080/"
        },
        "id": "-_MKEO-ZUDCf",
        "outputId": "30047284-c425-4512-c1ec-5ab0468c33f8"
      },
      "execution_count": 53,
      "outputs": [
        {
          "output_type": "stream",
          "name": "stdout",
          "text": [
            "              precision    recall  f1-score   support\n",
            "\n",
            "           0       0.77      0.78      0.77       156\n",
            "           1       0.17      0.16      0.16        44\n",
            "\n",
            "    accuracy                           0.64       200\n",
            "   macro avg       0.47      0.47      0.47       200\n",
            "weighted avg       0.63      0.64      0.64       200\n",
            "\n"
          ]
        }
      ]
    },
    {
      "cell_type": "markdown",
      "source": [
        "The overall accuracy in this method is 64% accuracy in determining whether something is truly classifiable or not.  F1 Scores indicate it is better at determining when something is high quality (normal) vs not.\n",
        " "
      ],
      "metadata": {
        "id": "w4nKE6Or3xev"
      }
    },
    {
      "cell_type": "code",
      "source": [],
      "metadata": {
        "id": "NO1cOuOTXN0J"
      },
      "execution_count": null,
      "outputs": []
    }
  ]
}