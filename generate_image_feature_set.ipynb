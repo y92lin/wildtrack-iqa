{
  "nbformat": 4,
  "nbformat_minor": 0,
  "metadata": {
    "colab": {
      "provenance": [],
      "collapsed_sections": [],
      "machine_shape": "hm",
      "background_execution": "on",
      "authorship_tag": "ABX9TyPEObf+FFBtFiW5Qgwz3ltz",
      "include_colab_link": true
    },
    "kernelspec": {
      "name": "python3",
      "display_name": "Python 3"
    },
    "language_info": {
      "name": "python"
    },
    "accelerator": "GPU"
  },
  "cells": [
    {
      "cell_type": "markdown",
      "metadata": {
        "id": "view-in-github",
        "colab_type": "text"
      },
      "source": [
        "<a href=\"https://colab.research.google.com/github/YolandaMDavis/NSSADNN_IQA/blob/wildtrack-iqa/generate_image_feature_set.ipynb\" target=\"_parent\"><img src=\"https://colab.research.google.com/assets/colab-badge.svg\" alt=\"Open In Colab\"/></a>"
      ]
    },
    {
      "cell_type": "markdown",
      "source": [
        "This notebook is used to create a non-reference iqa data set from the images provided by Wildtrack. Taking a directory of images, the tool will calculate all IQA measure for each imaage and store them in files (presplit for training validation and test) along with image metadata."
      ],
      "metadata": {
        "id": "Aw-xUHjD7lLQ"
      }
    },
    {
      "cell_type": "code",
      "execution_count": 1,
      "metadata": {
        "colab": {
          "base_uri": "https://localhost:8080/",
          "height": 52
        },
        "id": "29eAYuRPvtXs",
        "outputId": "2add254f-3ea2-4873-ef93-74f299d3a2d4"
      },
      "outputs": [
        {
          "output_type": "stream",
          "name": "stdout",
          "text": [
            "Mounted at /content/drive\n"
          ]
        },
        {
          "output_type": "execute_result",
          "data": {
            "text/plain": [
              "'WildTrack_Raw.zip'"
            ],
            "application/vnd.google.colaboratory.intrinsic+json": {
              "type": "string"
            }
          },
          "metadata": {},
          "execution_count": 1
        }
      ],
      "source": [
        "#Only needed to copy data to local drive can be skipped if zip file is already available in working folder\n",
        "import shutil\n",
        "\n",
        "# mount google drive\n",
        "from google.colab import drive\n",
        "drive.mount('/content/drive') # for google colab. adjust accordingly\n",
        "PARENT_DIR = '/content/drive/MyDrive/Wildtrack Group/IQA' \n",
        "\n",
        "# copy and extract tar file\n",
        "shutil.copy(PARENT_DIR + '/data/WildTrack_Raw.zip', 'WildTrack_Raw.zip')"
      ]
    },
    {
      "cell_type": "code",
      "source": [
        "# clone the repository and move data file\n",
        "!git clone https://github.com/YolandaMDavis/NSSADNN_IQA.git\n",
        "!mv WildTrack_Raw.zip NSSADNN_IQA/.\n",
        "%cd \"NSSADNN_IQA\"\n",
        "!git checkout wildtrack-iqa"
      ],
      "metadata": {
        "colab": {
          "base_uri": "https://localhost:8080/"
        },
        "id": "xgJBRVSzvwty",
        "outputId": "83565881-79ce-4293-fcf0-e7d251f993bd"
      },
      "execution_count": 2,
      "outputs": [
        {
          "output_type": "stream",
          "name": "stdout",
          "text": [
            "Cloning into 'NSSADNN_IQA'...\n",
            "remote: Enumerating objects: 90, done.\u001b[K\n",
            "remote: Counting objects: 100% (90/90), done.\u001b[K\n",
            "remote: Compressing objects: 100% (79/79), done.\u001b[K\n",
            "remote: Total 90 (delta 42), reused 36 (delta 10), pack-reused 0\u001b[K\n",
            "Unpacking objects: 100% (90/90), done.\n",
            "/content/NSSADNN_IQA\n",
            "Branch 'wildtrack-iqa' set up to track remote branch 'wildtrack-iqa' from 'origin'.\n",
            "Switched to a new branch 'wildtrack-iqa'\n"
          ]
        }
      ]
    },
    {
      "cell_type": "code",
      "source": [
        "from zipfile import ZipFile\n",
        "# extract zip file\n",
        "with ZipFile('WildTrack_Raw.zip', 'r') as zipObj:\n",
        "   # Extract all the contents of zip file in current directory\n",
        "   zipObj.extractall()"
      ],
      "metadata": {
        "id": "MakY7aSu1bfr"
      },
      "execution_count": 3,
      "outputs": []
    },
    {
      "cell_type": "code",
      "source": [
        "# set directory variables and \n",
        "import os\n",
        "\n",
        "import numpy as np\n",
        "from scipy import stats\n",
        "import torch.nn as nn\n",
        "import random\n",
        "\n",
        "root_dir = '/content/NSSADNN_IQA'\n",
        "data_dir = root_dir + '/RAW'\n",
        "image_reference_file_suffix = '_image_references.csv'\n",
        "\n",
        "%cd \"/content/NSSADNN_IQA\""
      ],
      "metadata": {
        "colab": {
          "base_uri": "https://localhost:8080/"
        },
        "id": "UUDMIl22wx9n",
        "outputId": "7f7193f7-ba02-4e0b-a786-1bc9976beebd"
      },
      "execution_count": 4,
      "outputs": [
        {
          "output_type": "stream",
          "name": "stdout",
          "text": [
            "/content/NSSADNN_IQA\n"
          ]
        }
      ]
    },
    {
      "cell_type": "code",
      "source": [
        "from torch.utils import data\n",
        "import csv\n",
        "import random\n",
        "import torch\n",
        "import yaml\n",
        "import cv2\n",
        "from brisque import brisque\n",
        "from niqe import niqe\n",
        "from piqe import piqe\n",
        "\n",
        "from torch.utils.data import Dataset\n",
        "\n",
        "\n",
        "def get_image_row(image_reference):\n",
        "    file_path = os.path.join(image_reference[0], image_reference[3])\n",
        "    print(\"Processing image for features:\" + file_path)\n",
        "\n",
        "    im_features = cv2.imread(file_path)\n",
        "    im_features = cv2.cvtColor(im_features, cv2.COLOR_BGR2RGB)\n",
        "    brisque_features = brisque(im_features)\n",
        "    n_score = niqe(im_features)\n",
        "    p_score,_,_,_ = piqe(im_features)\n",
        "    other_scores = [n_score, p_score]\n",
        "    iqa_features = np.append(brisque_features,np.array(other_scores))\n",
        "    iqa_features = tuple(iqa_features.tolist())\n",
        "    return image_reference + iqa_features\n",
        "\n",
        "def generate_file(dataset):\n",
        "  ref_file_name = root_dir + '/' + dataset[0] + image_reference_file_suffix\n",
        "  with open(ref_file_name, 'w', newline='') as csvfile:\n",
        "      image_ref_writer = csv.writer(csvfile, delimiter=',', quotechar='\"', quoting=csv.QUOTE_NONNUMERIC)\n",
        "      header_columns = ['image_location','species','animal_class','image_name','subj_score']\n",
        "      brisque_columns = ['feature_' + str(i) for i in range(0,36)]\n",
        "      header_columns+=brisque_columns\n",
        "      header_columns+=['n_score','p_score']\n",
        "      image_ref_writer.writerow(header_columns)\n",
        "      image_ref_writer.writerows(dataset[1])\n",
        "\n",
        "def generate_data_files(sample_percentage=1):\n",
        "\n",
        "    image_reference_list = []\n",
        "\n",
        "    subdirectories = list(os.walk(data_dir, topdown=False))[:-1]\n",
        "    for subdir in subdirectories:\n",
        "        image_location = subdir[0]\n",
        "        images = subdir[2]\n",
        "        species_rating = image_location.rsplit('/', 1)[-1].replace('_', ' ')\n",
        "        score = int(species_rating.rsplit(' ', 1)[-1])\n",
        "        species_class = species_rating.rsplit(' ', 1)[:-1][0]\n",
        "        if len(species_class.rsplit(' ', 1)) > 1:\n",
        "            species = species_class.rsplit(' ')[0]\n",
        "            animal_class = ' '.join(species_class.rsplit(' ')[1:])\n",
        "        else:\n",
        "            animal_class = 'Unknown'\n",
        "            species = species_class\n",
        "\n",
        "        for image in images:\n",
        "            image_reference = (image_location, species, animal_class, image, score)\n",
        "            image_reference_list.append(image_reference)\n",
        "        \n",
        "\n",
        "    # shuffle then split\n",
        "    seed = 1234\n",
        "    random.Random(seed).shuffle(image_reference_list)\n",
        "\n",
        "    train_index = int(len(image_reference_list) *0.6 *sample_percentage)\n",
        "    test_index = -int(len(image_reference_list) * 0.2 * sample_percentage) \n",
        "    val_index = test_index * 2\n",
        "\n",
        "    training = image_reference_list[:train_index]\n",
        "    validation = image_reference_list[val_index:test_index]\n",
        "    testing = image_reference_list[test_index:]\n",
        "\n",
        "    training_features = [get_image_row(image_reference) for image_reference in training]\n",
        "    validation_features = [get_image_row(image_reference) for image_reference in validation]\n",
        "    test_features = [get_image_row(image_reference) for image_reference in testing]\n",
        "\n",
        "    # generated reference splits\n",
        "    for dataset in [('training', training_features), ('validation', validation_features), ('testing', test_features)]:\n",
        "        dataset_type = dataset[0]\n",
        "        print(\"Processing File: \" + dataset_type)\n",
        "        generate_file(dataset)\n",
        "        shutil.copy(dataset_type + '_image_references.csv', PARENT_DIR + '/data/' + dataset_type + '_image_references.csv') "
      ],
      "metadata": {
        "id": "SSeoHAkvywHp"
      },
      "execution_count": 26,
      "outputs": []
    },
    {
      "cell_type": "code",
      "source": [
        "# take a percentage of the full data set as a training/test/validation sample\n",
        "sample_size=.1\n",
        "generate_data_files(sample_size)"
      ],
      "metadata": {
        "colab": {
          "base_uri": "https://localhost:8080/"
        },
        "id": "gn_UeSW62AEX",
        "outputId": "86a2c00b-6ad3-47bf-be04-dfcd1d934f3d"
      },
      "execution_count": 27,
      "outputs": [
        {
          "output_type": "stream",
          "name": "stdout",
          "text": [
            "Processing image for features:/content/NSSADNN_IQA/RAW/Otter_Eurasian_4/254d47305e5611ec81ca0242ac100102.jpg\n",
            "Processing image for features:/content/NSSADNN_IQA/RAW/Leopard_African_4/99929e22540411ebb49800155d5f029b.jpg\n",
            "Processing image for features:/content/NSSADNN_IQA/RAW/Tapir_Lowland_4/72d025e832a311ebbaf80242ac110002.jpg\n",
            "Processing image for features:/content/NSSADNN_IQA/RAW/Tapir_Lowland_4/82d7d00832a311ebbaf80242ac110002.jpg\n",
            "Processing image for features:/content/NSSADNN_IQA/RAW/Rhino_White_5/db7cffa0d3dd11ea91590242ac1c0002.jpg\n",
            "Processing image for features:/content/NSSADNN_IQA/RAW/Otter_Eurasian_4/c5cd5096d6ae11eab34b0242ac110002.jpg\n",
            "Processing image for features:/content/NSSADNN_IQA/RAW/Tiger_Bengal_5/10f3c1aad3de11ea91590242ac1c0002.jpg\n",
            "Processing image for features:/content/NSSADNN_IQA/RAW/Rhino_Black_4/24d15f6cc0ff11ea82a50242ac1c0002.jpg\n",
            "Processing image for features:/content/NSSADNN_IQA/RAW/Otter_Eurasian_4/f7672c72358011eb987f00155d48c714.jpg\n",
            "Processing image for features:/content/NSSADNN_IQA/RAW/Tapir_Lowland_5/8a46b874d3dd11ea91590242ac1c0002.jpg\n",
            "Processing image for features:/content/NSSADNN_IQA/RAW/Otter_Eurasian_2/5eb001583a4811ebb19d00155d854644.jpg\n",
            "Processing image for features:/content/NSSADNN_IQA/RAW/Panda_Giant_4/09d643ba208d11eb9d950242ac110002.jpg\n",
            "Processing image for features:/content/NSSADNN_IQA/RAW/Otter_Eurasian_3/722149e2c0fc11ea82a50242ac1c0002.jpg\n",
            "Processing image for features:/content/NSSADNN_IQA/RAW/Rhino_Black_4/0b38f552f12811ea9d950242ac110002.jpg\n",
            "Processing image for features:/content/NSSADNN_IQA/RAW/Lion_African_2/b3098eb4982f11eba3bf00155daaeac3.jpg\n",
            "Processing image for features:/content/NSSADNN_IQA/RAW/Lion_African_3/9ad10d5ecf6711eaafe50242ac110002.jpg\n",
            "Processing image for features:/content/NSSADNN_IQA/RAW/Otter_Eurasian_2/db7126e209c211eb9d950242ac110002.jpg\n",
            "Processing image for features:/content/NSSADNN_IQA/RAW/Otter_Eurasian_5/27a1fa365e5511ec81ca0242ac100102.jpg\n",
            "Processing image for features:/content/NSSADNN_IQA/RAW/Otter_Eurasian_4/de504f6ac0fb11ea82a50242ac1c0002.jpg\n",
            "Processing image for features:/content/NSSADNN_IQA/RAW/Cheetah_Southeast_African_5/aa791e34d3dd11ea91590242ac1c0002.jpg\n",
            "Processing image for features:/content/NSSADNN_IQA/RAW/Lion_African_3/30ab63cabec211eb8b2600155da8b797.jpg\n",
            "Processing image for features:/content/NSSADNN_IQA/RAW/Puma_3/eeb6c7cac48411eb9d2b00155db4bfaf.jpg\n",
            "Processing image for features:/content/NSSADNN_IQA/RAW/Otter_Eurasian_3/8d5ecbd1ce0a11ea98c80242ac110002.jpg\n",
            "Processing image for features:/content/NSSADNN_IQA/RAW/Bongo_Eastern_Mountain_5/6060f20ed3dd11ea91590242ac1c0002.jpg\n",
            "Processing image for features:/content/NSSADNN_IQA/RAW/Otter_Eurasian_3/5155fcf9ce0a11ea89180242ac110002.jpg\n",
            "Processing image for features:/content/NSSADNN_IQA/RAW/Leopard_African_3/31eafd0ed45311eab34b0242ac110002.jpg\n",
            "Processing image for features:/content/NSSADNN_IQA/RAW/Lion_African_3/a7db3a4cc0f811ea82a50242ac1c0002.jpg\n",
            "Processing image for features:/content/NSSADNN_IQA/RAW/Rhino_Black_5/beecb608ccff11eabc8b0242ac1c0002.jpg\n",
            "Processing image for features:/content/NSSADNN_IQA/RAW/Otter_Eurasian_4/6d03ea8c619b11eca10e0242ac100203.jpg\n",
            "Processing image for features:/content/NSSADNN_IQA/RAW/Leopard_African_3/8289f236c55211ea8dbf0242ac110002.jpg\n",
            "Processing image for features:/content/NSSADNN_IQA/RAW/Lion_African_5/860537560db011eb9d950242ac110002.jpg\n",
            "Processing image for features:/content/NSSADNN_IQA/RAW/Rhino_Black_5/bc352332ccff11eabc8b0242ac1c0002.jpg\n",
            "Processing image for features:/content/NSSADNN_IQA/RAW/Tiger_Bengal_5/f4a8da94d3dd11ea91590242ac1c0002.jpg\n",
            "Processing image for features:/content/NSSADNN_IQA/RAW/Otter_Eurasian_1/73da629fce0a11ea97d90242ac110002.jpg\n",
            "Processing image for features:/content/NSSADNN_IQA/RAW/Tiger_Bengal_3/fb3762fed3dd11ea91590242ac1c0002.jpg\n",
            "Processing image for features:/content/NSSADNN_IQA/RAW/Otter_Eurasian_1/8ba96876d77811eab34b0242ac110002.jpg\n",
            "Processing image for features:/content/NSSADNN_IQA/RAW/Lion_African_2/1f4eea5ac61711eb9bb900155d907e22.jpg\n",
            "Processing image for features:/content/NSSADNN_IQA/RAW/Jaguar_5/2ce1b874fa0b11ea9d950242ac110002.jpg\n",
            "Processing image for features:/content/NSSADNN_IQA/RAW/Otter_Eurasian_4/7978340e373411eb95a500155d4144f4.jpg\n",
            "Processing image for features:/content/NSSADNN_IQA/RAW/Otter_Eurasian_4/db33881ec0fc11ea82a50242ac1c0002.jpg\n",
            "Processing image for features:/content/NSSADNN_IQA/RAW/Rhino_Black_4/544c245ad6af11eab34b0242ac110002.jpg\n",
            "Processing image for features:/content/NSSADNN_IQA/RAW/Otter_Eurasian_3/9b7b68f8d77811eab34b0242ac110002.jpg\n",
            "Processing image for features:/content/NSSADNN_IQA/RAW/Otter_Eurasian_4/d2be95d6366b11eb904c00155d6591bd.jpg\n",
            "Processing image for features:/content/NSSADNN_IQA/RAW/Leopard_African_4/c2bfb3868e3b11eb983000155dd43f71.jpg\n",
            "Processing image for features:/content/NSSADNN_IQA/RAW/Otter_Eurasian_4/cf2a500e366b11eb904c00155d6591bd.jpg\n",
            "Processing image for features:/content/NSSADNN_IQA/RAW/Lion_African_5/3d8034f48ca911eba36100155dc596e7.jpg\n",
            "Processing File: training\n",
            "Processing File: validation\n",
            "Processing File: testing\n"
          ]
        }
      ]
    },
    {
      "cell_type": "code",
      "source": [
        "shutil.copy('training_image_references.csv', PARENT_DIR + '/data/' + 'training' + '_image_references.csv') "
      ],
      "metadata": {
        "colab": {
          "base_uri": "https://localhost:8080/",
          "height": 35
        },
        "id": "b7wDv_Ht5x_F",
        "outputId": "68013219-448d-4b27-eb3d-ec5d5eaa9804"
      },
      "execution_count": 25,
      "outputs": [
        {
          "output_type": "execute_result",
          "data": {
            "text/plain": [
              "'/content/drive/MyDrive/Wildtrack Group/IQA/data/training_image_references.csv'"
            ],
            "application/vnd.google.colaboratory.intrinsic+json": {
              "type": "string"
            }
          },
          "metadata": {},
          "execution_count": 25
        }
      ]
    }
  ]
}