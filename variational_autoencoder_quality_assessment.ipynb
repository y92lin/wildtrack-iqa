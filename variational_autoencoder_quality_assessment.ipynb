{
  "nbformat": 4,
  "nbformat_minor": 0,
  "metadata": {
    "colab": {
      "provenance": [],
      "toc_visible": true,
      "machine_shape": "hm"
    },
    "kernelspec": {
      "display_name": "Python 3 (ipykernel)",
      "language": "python",
      "name": "python3"
    },
    "language_info": {
      "codemirror_mode": {
        "name": "ipython",
        "version": 3
      },
      "file_extension": ".py",
      "mimetype": "text/x-python",
      "name": "python",
      "nbconvert_exporter": "python",
      "pygments_lexer": "ipython3",
      "version": "3.9.8"
    },
    "accelerator": "TPU",
    "gpuClass": "premium"
  },
  "cells": [
    {
      "cell_type": "markdown",
      "metadata": {
        "id": "onrdiAXRueMR"
      },
      "source": [
        "# Anomaly Detection Modeling for Quality Assessment\n",
        "\n",
        "Using a variational auto-encoder we will determine if we can assess an image as high quality or low quality for use in a downstream task.  The hypothesis here is that differences in error when recreating the classes of images may indicate a difference in quality."
      ]
    },
    {
      "cell_type": "markdown",
      "source": [
        "## Data Preparation"
      ],
      "metadata": {
        "id": "7dPIH682y-jB"
      }
    },
    {
      "cell_type": "code",
      "source": [
        "from google.colab import drive\n",
        "from zipfile import ZipFile\n",
        "\n",
        "import shutil\n",
        "\n",
        "drive.mount('/content/drive') # for google colab. adjust accordingly\n",
        "PARENT_DIR = '/content/drive/MyDrive/Wildtrack Group/IQA' \n",
        "\n",
        "# copy annotated and cropped images imafea\n",
        "shutil.copy(PARENT_DIR + '/data/Annotated_Cropped_WildTrack.zip', 'Cropped_WildTrack.zip')\n",
        "\n",
        "# extract zip file\n",
        "with ZipFile('Cropped_WildTrack.zip', 'r') as zipObj:\n",
        "   # Extract all the contents of zip file in current directory\n",
        "   zipObj.extractall()"
      ],
      "metadata": {
        "colab": {
          "base_uri": "https://localhost:8080/"
        },
        "id": "60RmgzaY70Xa",
        "outputId": "9761c00c-b583-4d05-ad51-450f77491256"
      },
      "execution_count": 1,
      "outputs": [
        {
          "output_type": "stream",
          "name": "stdout",
          "text": [
            "Mounted at /content/drive\n"
          ]
        }
      ]
    },
    {
      "cell_type": "code",
      "source": [
        "import torch\n",
        "import torchvision\n",
        "from PIL import Image\n",
        "import torchvision.transforms as T\n",
        "import matplotlib.pyplot as plt\n",
        "import cv2\n",
        "import json\n",
        "import numpy as np\n",
        "import albumentations as A\n",
        "\n",
        "# get downstream/classification task model files\n",
        "shutil.copy(PARENT_DIR + '/final_model/transforms.json','transforms.json')\n",
        "shutil.copy(PARENT_DIR + '/final_model/species_model.pt', 'species_model.pt')\n",
        "shutil.copy(PARENT_DIR + '/final_model/class_mapping.json', 'class_mapping.json')\n",
        "\n",
        "device = torch.device('cpu')\n",
        "\n",
        "with open('class_mapping.json') as data:\n",
        "    mappings = json.load(data)\n",
        "\n",
        "class_mapping = {item['model_idx']: item['class_name'] for item in mappings}\n",
        "model = torch.jit.load('species_model.pt').to(device)\n",
        "transforms = A.load('transforms.json')"
      ],
      "metadata": {
        "id": "YbEAU_sZBxwb"
      },
      "execution_count": 2,
      "outputs": []
    },
    {
      "cell_type": "code",
      "source": [
        "from torch.utils import data\n",
        "import csv\n",
        "import random\n",
        "import torch\n",
        "import yaml\n",
        "import os\n",
        "\n",
        "from time import process_time\n",
        "from torch.utils.data import Dataset\n",
        "\n",
        "data_dir = 'RAW/'\n",
        "\n",
        "def get_key(val, item_dict):\n",
        "    for key, value in item_dict.items():\n",
        "        if val == value:\n",
        "            return key\n",
        "    return -1\n",
        "\n",
        "def convert_image(img_test):\n",
        "    image = Image.open(img_test)\n",
        "    bands = image.getbands()\n",
        "    if len(bands) == 1:\n",
        "      image = image.convert(mode='RGB')\n",
        "    image = np.array(image)\n",
        "    image = transforms(image=image)['image']\n",
        "    return image\n",
        "\n",
        "def generate_data_sets(sample_percentage=1):\n",
        "\n",
        "    image_reference_list = []\n",
        "    subdirectories = list(os.walk(data_dir, topdown=False))[:-1]\n",
        "\n",
        "    seed = 1234\n",
        "    random.Random(seed).shuffle(subdirectories)\n",
        "    subdirectories_idx = int(len(subdirectories) * sample_percentage) \n",
        "    subdirectories = subdirectories[:subdirectories_idx]\n",
        "\n",
        "    for subdir in subdirectories:\n",
        "        image_location = subdir[0]\n",
        "        images = subdir[2]\n",
        "        species_rating = image_location.rsplit('/', 1)[-1].replace('_', ' ')\n",
        "        subjective_score = int(species_rating.rsplit(' ', 1)[-1])\n",
        "        species_class = species_rating.rsplit(' ', 1)[:-1][0]\n",
        "\n",
        "        if len(species_class.rsplit(' ', 1)) > 1:\n",
        "            species = species_class.rsplit(' ')[0]\n",
        "            animal_class = ' '.join(species_class.rsplit(' ')[1:])\n",
        "        else:\n",
        "            animal_class = 'Unknown'\n",
        "            species = species_class\n",
        "\n",
        "        for image in images:\n",
        "            class_name = species if animal_class == 'Unknown' else species + ': ' + animal_class\n",
        "            class_index = get_key(class_name, class_mapping)\n",
        "            if class_index > -1:\n",
        "              image_name = image_location +'/'+ image\n",
        "              image_data = convert_image(image_name)\n",
        "              model_input = torch.from_numpy(image_data).to(device)\n",
        "              obs = model_input.permute(2, 0, 1).unsqueeze(dim=0).float()\n",
        "              y_pred = model(obs)\n",
        "              y_pred = y_pred.argmax(dim=1).squeeze().item()\n",
        "              classifiable = 1 if class_index == y_pred else 0\n",
        "              image_reference = (image_location, image, species, animal_class, image_data, classifiable)\n",
        "              image_reference_list.append(image_reference)\n",
        "\n",
        "    train_index = int(len(image_reference_list) * 0.6 )\n",
        "    test_index = -int(len(image_reference_list) * 0.2 ) \n",
        "    val_index = test_index * 2\n",
        "    training = image_reference_list[:train_index]\n",
        "    validation = image_reference_list[val_index:test_index]\n",
        "    testing = image_reference_list[test_index:]\n",
        "\n",
        "    return training, validation, testing\n",
        "\n"
      ],
      "metadata": {
        "id": "keVpYgDF8VJH"
      },
      "execution_count": 3,
      "outputs": []
    },
    {
      "cell_type": "code",
      "source": [
        "train, validation, test = generate_data_sets(sample_percentage=1)"
      ],
      "metadata": {
        "id": "I5BwN3y9Ctr9"
      },
      "execution_count": 4,
      "outputs": []
    },
    {
      "cell_type": "markdown",
      "source": [
        "## Build Model"
      ],
      "metadata": {
        "id": "pbkXI_VezGMK"
      }
    },
    {
      "cell_type": "markdown",
      "metadata": {
        "id": "-eWLz-4yueMW"
      },
      "source": [
        "### Define Encoder Network"
      ]
    },
    {
      "cell_type": "code",
      "metadata": {
        "id": "37oLPvhsueMX"
      },
      "source": [
        "from tensorflow import keras\n",
        "from tensorflow.keras import layers\n",
        "\n",
        "latent_dim = 2\n",
        "encoder_inputs = keras.Input(shape=(512, 512, 3))\n",
        "x = layers.Conv2D(32, 3, activation=\"relu\", strides=2, padding=\"same\")(encoder_inputs)\n",
        "x = layers.Conv2D(64, 3, activation=\"relu\", strides=2, padding=\"same\")(x)\n",
        "x = layers.Flatten()(x)\n",
        "x = layers.Dense(16, activation=\"relu\")(x)\n",
        "z_mean = layers.Dense(latent_dim, name=\"z_mean\")(x)\n",
        "z_log_var = layers.Dense(latent_dim, name=\"z_log_var\")(x)\n",
        "encoder = keras.Model(encoder_inputs, [z_mean, z_log_var], name=\"encoder\")"
      ],
      "execution_count": 5,
      "outputs": []
    },
    {
      "cell_type": "code",
      "metadata": {
        "colab": {
          "base_uri": "https://localhost:8080/"
        },
        "id": "UjHnpkNsueMY",
        "outputId": "0ce1d50a-3886-41a5-80f9-c8c63ca76c34"
      },
      "source": [
        "encoder.summary()"
      ],
      "execution_count": 6,
      "outputs": [
        {
          "output_type": "stream",
          "name": "stdout",
          "text": [
            "Model: \"encoder\"\n",
            "__________________________________________________________________________________________________\n",
            " Layer (type)                   Output Shape         Param #     Connected to                     \n",
            "==================================================================================================\n",
            " input_1 (InputLayer)           [(None, 512, 512, 3  0           []                               \n",
            "                                )]                                                                \n",
            "                                                                                                  \n",
            " conv2d (Conv2D)                (None, 256, 256, 32  896         ['input_1[0][0]']                \n",
            "                                )                                                                 \n",
            "                                                                                                  \n",
            " conv2d_1 (Conv2D)              (None, 128, 128, 64  18496       ['conv2d[0][0]']                 \n",
            "                                )                                                                 \n",
            "                                                                                                  \n",
            " flatten (Flatten)              (None, 1048576)      0           ['conv2d_1[0][0]']               \n",
            "                                                                                                  \n",
            " dense (Dense)                  (None, 16)           16777232    ['flatten[0][0]']                \n",
            "                                                                                                  \n",
            " z_mean (Dense)                 (None, 2)            34          ['dense[0][0]']                  \n",
            "                                                                                                  \n",
            " z_log_var (Dense)              (None, 2)            34          ['dense[0][0]']                  \n",
            "                                                                                                  \n",
            "==================================================================================================\n",
            "Total params: 16,796,692\n",
            "Trainable params: 16,796,692\n",
            "Non-trainable params: 0\n",
            "__________________________________________________________________________________________________\n"
          ]
        }
      ]
    },
    {
      "cell_type": "markdown",
      "metadata": {
        "id": "TiYXxjqQueMa"
      },
      "source": [
        "### Define Latent Space Sampler"
      ]
    },
    {
      "cell_type": "code",
      "metadata": {
        "id": "LK4pIZ5KueMa"
      },
      "source": [
        "import tensorflow as tf\n",
        "\n",
        "class Sampler(layers.Layer):\n",
        "    def call(self, z_mean, z_log_var):\n",
        "        batch_size = tf.shape(z_mean)[0]\n",
        "        z_size = tf.shape(z_mean)[1]\n",
        "        epsilon = tf.random.normal(shape=(batch_size, z_size))\n",
        "        return z_mean + tf.exp(0.5 * z_log_var) * epsilon"
      ],
      "execution_count": 7,
      "outputs": []
    },
    {
      "cell_type": "markdown",
      "metadata": {
        "id": "mjiqY4JcueMa"
      },
      "source": [
        "### Define Decoder Network"
      ]
    },
    {
      "cell_type": "code",
      "metadata": {
        "id": "TL1A8ZwLueMb"
      },
      "source": [
        "latent_inputs = keras.Input(shape=(latent_dim,))\n",
        "x = layers.Dense(128 * 128 * 64, activation=\"relu\")(latent_inputs)\n",
        "x = layers.Reshape((128, 128, 64))(x)\n",
        "x = layers.Conv2DTranspose(64, 3, activation=\"relu\", strides=2, padding=\"same\")(x)\n",
        "x = layers.Conv2DTranspose(32, 3, activation=\"relu\", strides=2, padding=\"same\")(x)\n",
        "decoder_outputs = layers.Conv2D(3, 3, activation=\"relu\", padding=\"same\")(x)\n",
        "decoder = keras.Model(latent_inputs, decoder_outputs, name=\"decoder\")"
      ],
      "execution_count": 8,
      "outputs": []
    },
    {
      "cell_type": "code",
      "metadata": {
        "colab": {
          "base_uri": "https://localhost:8080/"
        },
        "id": "bRgpsIkjueMb",
        "outputId": "c8bb5e18-7ea9-4854-9e77-c1ec525ad4d8"
      },
      "source": [
        "decoder.summary()"
      ],
      "execution_count": 9,
      "outputs": [
        {
          "output_type": "stream",
          "name": "stdout",
          "text": [
            "Model: \"decoder\"\n",
            "_________________________________________________________________\n",
            " Layer (type)                Output Shape              Param #   \n",
            "=================================================================\n",
            " input_2 (InputLayer)        [(None, 2)]               0         \n",
            "                                                                 \n",
            " dense_1 (Dense)             (None, 1048576)           3145728   \n",
            "                                                                 \n",
            " reshape (Reshape)           (None, 128, 128, 64)      0         \n",
            "                                                                 \n",
            " conv2d_transpose (Conv2DTra  (None, 256, 256, 64)     36928     \n",
            " nspose)                                                         \n",
            "                                                                 \n",
            " conv2d_transpose_1 (Conv2DT  (None, 512, 512, 32)     18464     \n",
            " ranspose)                                                       \n",
            "                                                                 \n",
            " conv2d_2 (Conv2D)           (None, 512, 512, 3)       867       \n",
            "                                                                 \n",
            "=================================================================\n",
            "Total params: 3,201,987\n",
            "Trainable params: 3,201,987\n",
            "Non-trainable params: 0\n",
            "_________________________________________________________________\n"
          ]
        }
      ]
    },
    {
      "cell_type": "markdown",
      "metadata": {
        "id": "I9nEzmSuueMb"
      },
      "source": [
        "### Build VAE"
      ]
    },
    {
      "cell_type": "code",
      "metadata": {
        "id": "XwOF5FB2ueMc"
      },
      "source": [
        "class VAE(keras.Model):\n",
        "    def __init__(self, encoder, decoder, **kwargs):\n",
        "        super().__init__(**kwargs)\n",
        "        self.encoder = encoder\n",
        "        self.decoder = decoder\n",
        "        self.sampler = Sampler()\n",
        "        self.total_loss_tracker = keras.metrics.Mean(name=\"total_loss\")\n",
        "        self.reconstruction_loss_tracker = keras.metrics.Mean(name=\"reconstruction_loss\")\n",
        "        self.kl_loss_tracker = keras.metrics.Mean(name=\"kl_loss\")\n",
        "        self.mse = keras.losses.MeanSquaredError(reduction=keras.losses.Reduction.SUM)\n",
        "        self.layer = layers.Normalization(axis=None)\n",
        "        self.layer.adapt(np.arange(0, 256, dtype=int))\n",
        "\n",
        "\n",
        "    @property\n",
        "    def metrics(self):\n",
        "        return [self.total_loss_tracker,\n",
        "                self.reconstruction_loss_tracker,\n",
        "                self.kl_loss_tracker]\n",
        "    \n",
        "    def train_step(self, data):\n",
        "        x, y = data\n",
        "        x = self.layer(x)\n",
        "        y = self.layer(y)\n",
        "\n",
        "        with tf.GradientTape() as tape:\n",
        "            z_mean, z_log_var = self.encoder(x)\n",
        "            z = self.sampler(z_mean, z_log_var)\n",
        "            reconstruction = decoder(z)\n",
        "            reconstruction_loss = self.mse(y, reconstruction)\n",
        "            kl_loss = -0.5 * (1 + z_log_var - tf.square(z_mean) - tf.exp(z_log_var))\n",
        "            total_loss = reconstruction_loss + tf.reduce_mean(kl_loss)\n",
        "        grads = tape.gradient(total_loss, self.trainable_weights)\n",
        "        self.optimizer.apply_gradients(zip(grads, self.trainable_weights))\n",
        "        self.total_loss_tracker.update_state(total_loss)\n",
        "        self.reconstruction_loss_tracker.update_state(reconstruction_loss)\n",
        "        self.kl_loss_tracker.update_state(kl_loss)\n",
        "        return {\n",
        "            \"total_loss\": self.total_loss_tracker.result(),\n",
        "            \"reconstruction_loss\": self.reconstruction_loss_tracker.result(),\n",
        "            \"kl_loss\": self.kl_loss_tracker.result(),\n",
        "        }\n",
        "\n",
        "    def test_step(self, data):\n",
        "        # Unpack the data\n",
        "        x, y = data\n",
        "        x = self.layer(x)\n",
        "        y = self.layer(y)\n",
        "        # Compute predictions\n",
        "        z_mean, z_log_var = self.encoder(x)\n",
        "        z = self.sampler(z_mean, z_log_var)\n",
        "        reconstruction = decoder(z)\n",
        "        reconstruction_loss = self.mse(y, reconstruction)\n",
        "        kl_loss = -0.5 * (1 + z_log_var - tf.square(z_mean) - tf.exp(z_log_var))\n",
        "        total_loss = reconstruction_loss + tf.reduce_mean(kl_loss)\n",
        "        return {\n",
        "          \"total_loss\": total_loss,\n",
        "          \"reconstruction_loss\": reconstruction_loss,\n",
        "          \"kl_loss\": kl_loss,\n",
        "        }"
      ],
      "execution_count": 10,
      "outputs": []
    },
    {
      "cell_type": "markdown",
      "metadata": {
        "id": "jDPzzcknueMc"
      },
      "source": [
        "## Model Training"
      ]
    },
    {
      "cell_type": "code",
      "metadata": {
        "id": "YonlhZOfueMd"
      },
      "source": [
        "# Prepare training data\n",
        "\n",
        "X_train = np.array([item[4] for item in train])\n",
        "y_train = np.array([item[5] for item in train])\n",
        "\n",
        "X_val = np.array([item[4] for item in validation])\n",
        "y_val = np.array([item[5] for item in validation])\n",
        "\n",
        "X_test = np.array([item[4] for item in test])\n",
        "y_test = np.array([item[5] for item in test])\n",
        "\n",
        "X_usable_train, X_reject_train = X_train[y_train == 1], X_train[y_train == 0]\n",
        "X_usable_val, X_reject_val = X_val[y_val == 1], X_val[y_val == 0]\n",
        "X_usable_test, X_reject_test = X_test[y_test == 1], X_test[y_test == 0]"
      ],
      "execution_count": 11,
      "outputs": []
    },
    {
      "cell_type": "code",
      "source": [
        "# Train the autoencoder\n",
        "from tensorflow.keras.callbacks import EarlyStopping, ModelCheckpoint\n",
        "\n",
        "# We pass the same value for x and y because we want to recreate the input, Basically f(x) = x\n",
        "tf_train = tf.data.Dataset.from_tensor_slices((X_usable_train, X_usable_train)).batch(64)\n",
        "tf_val = tf.data.Dataset.from_tensor_slices((X_usable_val, X_usable_val)).batch(64)\n",
        "tf_test = tf.data.Dataset.from_tensor_slices((X_usable_test, X_usable_test)).batch(64)\n",
        "\n",
        "earlystopper = EarlyStopping(monitor='val_total_loss', mode='min', min_delta=0.005, patience=5, verbose=0, restore_best_weights=True)\n",
        "max_epochs = 2\n",
        "vae = VAE(encoder, decoder)\n",
        "vae.compile(optimizer=keras.optimizers.Adam(learning_rate=0.00000001), run_eagerly=True)\n",
        "hist = vae.fit(tf_train, epochs=max_epochs,  shuffle=True, callbacks=[earlystopper], validation_data=tf_val)"
      ],
      "metadata": {
        "colab": {
          "base_uri": "https://localhost:8080/"
        },
        "id": "lqpIQyxobxm_",
        "outputId": "c1b4e22f-7a32-467c-8769-7d12fa986468"
      },
      "execution_count": 12,
      "outputs": [
        {
          "output_type": "stream",
          "name": "stdout",
          "text": [
            "Epoch 1/2\n",
            "30/30 [==============================] - 574s 19s/step - total_loss: 7733721.5000 - reconstruction_loss: 7733721.5000 - kl_loss: 0.0117 - val_total_loss: 546419.3750 - val_reconstruction_loss: 546419.3750 - val_kl_loss: 0.0231\n",
            "Epoch 2/2\n",
            "30/30 [==============================] - 573s 19s/step - total_loss: 7733737.0000 - reconstruction_loss: 7733737.0000 - kl_loss: 0.0120 - val_total_loss: 546413.9375 - val_reconstruction_loss: 546413.9375 - val_kl_loss: 0.0239\n"
          ]
        }
      ]
    },
    {
      "cell_type": "code",
      "source": [
        "X_sample_test = X_test[0:300]\n",
        "y_sample_test = y_test[0:300]\n",
        "z_mean, z_log_var = vae.encoder(X_sample_test)\n",
        "sample = vae.sampler(z_mean, z_log_var)\n",
        "decoded = vae.decoder(sample)\n",
        "\n",
        "mse = np.mean(np.power(X_sample_test - decoded, 2), axis=1)\n",
        "sum_mse = np.array([np.matrix(item).sum() for item in mse])"
      ],
      "metadata": {
        "id": "n93L1fI9cknS"
      },
      "execution_count": 55,
      "outputs": []
    },
    {
      "cell_type": "markdown",
      "source": [
        "## Data Analysis\n",
        "\n",
        "The goal is to assess the mean squared error when attempting to recreate the image, separated by data that could be classified by the model vs data that could not be classified (noted as 1 and 0 respectively). "
      ],
      "metadata": {
        "id": "GUavKNeAzzGw"
      }
    },
    {
      "cell_type": "code",
      "source": [
        "import pandas as pd\n",
        "\n",
        "# gather the mean square error calculated from the model and align with classification ability\n",
        "error_df_test = pd.DataFrame({'mse': sum_mse, 'class': y_sample_test})\n",
        "error_df_test.describe()"
      ],
      "metadata": {
        "colab": {
          "base_uri": "https://localhost:8080/",
          "height": 300
        },
        "id": "fiI9M3iGLsXd",
        "outputId": "e3e704f1-75fb-44a4-cd5f-bc80a010904c"
      },
      "execution_count": 56,
      "outputs": [
        {
          "output_type": "execute_result",
          "data": {
            "text/plain": [
              "                mse       class\n",
              "count  3.000000e+02  300.000000\n",
              "mean   8.215736e+12    0.700000\n",
              "std    1.423003e+14    0.459023\n",
              "min    4.008070e+06    0.000000\n",
              "25%    2.375723e+07    0.000000\n",
              "50%    2.866263e+07    1.000000\n",
              "75%    3.343599e+07    1.000000\n",
              "max    2.464713e+15    1.000000"
            ],
            "text/html": [
              "\n",
              "  <div id=\"df-9f846dd4-2435-4db2-9983-a78711a68c6d\">\n",
              "    <div class=\"colab-df-container\">\n",
              "      <div>\n",
              "<style scoped>\n",
              "    .dataframe tbody tr th:only-of-type {\n",
              "        vertical-align: middle;\n",
              "    }\n",
              "\n",
              "    .dataframe tbody tr th {\n",
              "        vertical-align: top;\n",
              "    }\n",
              "\n",
              "    .dataframe thead th {\n",
              "        text-align: right;\n",
              "    }\n",
              "</style>\n",
              "<table border=\"1\" class=\"dataframe\">\n",
              "  <thead>\n",
              "    <tr style=\"text-align: right;\">\n",
              "      <th></th>\n",
              "      <th>mse</th>\n",
              "      <th>class</th>\n",
              "    </tr>\n",
              "  </thead>\n",
              "  <tbody>\n",
              "    <tr>\n",
              "      <th>count</th>\n",
              "      <td>3.000000e+02</td>\n",
              "      <td>300.000000</td>\n",
              "    </tr>\n",
              "    <tr>\n",
              "      <th>mean</th>\n",
              "      <td>8.215736e+12</td>\n",
              "      <td>0.700000</td>\n",
              "    </tr>\n",
              "    <tr>\n",
              "      <th>std</th>\n",
              "      <td>1.423003e+14</td>\n",
              "      <td>0.459023</td>\n",
              "    </tr>\n",
              "    <tr>\n",
              "      <th>min</th>\n",
              "      <td>4.008070e+06</td>\n",
              "      <td>0.000000</td>\n",
              "    </tr>\n",
              "    <tr>\n",
              "      <th>25%</th>\n",
              "      <td>2.375723e+07</td>\n",
              "      <td>0.000000</td>\n",
              "    </tr>\n",
              "    <tr>\n",
              "      <th>50%</th>\n",
              "      <td>2.866263e+07</td>\n",
              "      <td>1.000000</td>\n",
              "    </tr>\n",
              "    <tr>\n",
              "      <th>75%</th>\n",
              "      <td>3.343599e+07</td>\n",
              "      <td>1.000000</td>\n",
              "    </tr>\n",
              "    <tr>\n",
              "      <th>max</th>\n",
              "      <td>2.464713e+15</td>\n",
              "      <td>1.000000</td>\n",
              "    </tr>\n",
              "  </tbody>\n",
              "</table>\n",
              "</div>\n",
              "      <button class=\"colab-df-convert\" onclick=\"convertToInteractive('df-9f846dd4-2435-4db2-9983-a78711a68c6d')\"\n",
              "              title=\"Convert this dataframe to an interactive table.\"\n",
              "              style=\"display:none;\">\n",
              "        \n",
              "  <svg xmlns=\"http://www.w3.org/2000/svg\" height=\"24px\"viewBox=\"0 0 24 24\"\n",
              "       width=\"24px\">\n",
              "    <path d=\"M0 0h24v24H0V0z\" fill=\"none\"/>\n",
              "    <path d=\"M18.56 5.44l.94 2.06.94-2.06 2.06-.94-2.06-.94-.94-2.06-.94 2.06-2.06.94zm-11 1L8.5 8.5l.94-2.06 2.06-.94-2.06-.94L8.5 2.5l-.94 2.06-2.06.94zm10 10l.94 2.06.94-2.06 2.06-.94-2.06-.94-.94-2.06-.94 2.06-2.06.94z\"/><path d=\"M17.41 7.96l-1.37-1.37c-.4-.4-.92-.59-1.43-.59-.52 0-1.04.2-1.43.59L10.3 9.45l-7.72 7.72c-.78.78-.78 2.05 0 2.83L4 21.41c.39.39.9.59 1.41.59.51 0 1.02-.2 1.41-.59l7.78-7.78 2.81-2.81c.8-.78.8-2.07 0-2.86zM5.41 20L4 18.59l7.72-7.72 1.47 1.35L5.41 20z\"/>\n",
              "  </svg>\n",
              "      </button>\n",
              "      \n",
              "  <style>\n",
              "    .colab-df-container {\n",
              "      display:flex;\n",
              "      flex-wrap:wrap;\n",
              "      gap: 12px;\n",
              "    }\n",
              "\n",
              "    .colab-df-convert {\n",
              "      background-color: #E8F0FE;\n",
              "      border: none;\n",
              "      border-radius: 50%;\n",
              "      cursor: pointer;\n",
              "      display: none;\n",
              "      fill: #1967D2;\n",
              "      height: 32px;\n",
              "      padding: 0 0 0 0;\n",
              "      width: 32px;\n",
              "    }\n",
              "\n",
              "    .colab-df-convert:hover {\n",
              "      background-color: #E2EBFA;\n",
              "      box-shadow: 0px 1px 2px rgba(60, 64, 67, 0.3), 0px 1px 3px 1px rgba(60, 64, 67, 0.15);\n",
              "      fill: #174EA6;\n",
              "    }\n",
              "\n",
              "    [theme=dark] .colab-df-convert {\n",
              "      background-color: #3B4455;\n",
              "      fill: #D2E3FC;\n",
              "    }\n",
              "\n",
              "    [theme=dark] .colab-df-convert:hover {\n",
              "      background-color: #434B5C;\n",
              "      box-shadow: 0px 1px 3px 1px rgba(0, 0, 0, 0.15);\n",
              "      filter: drop-shadow(0px 1px 2px rgba(0, 0, 0, 0.3));\n",
              "      fill: #FFFFFF;\n",
              "    }\n",
              "  </style>\n",
              "\n",
              "      <script>\n",
              "        const buttonEl =\n",
              "          document.querySelector('#df-9f846dd4-2435-4db2-9983-a78711a68c6d button.colab-df-convert');\n",
              "        buttonEl.style.display =\n",
              "          google.colab.kernel.accessAllowed ? 'block' : 'none';\n",
              "\n",
              "        async function convertToInteractive(key) {\n",
              "          const element = document.querySelector('#df-9f846dd4-2435-4db2-9983-a78711a68c6d');\n",
              "          const dataTable =\n",
              "            await google.colab.kernel.invokeFunction('convertToInteractive',\n",
              "                                                     [key], {});\n",
              "          if (!dataTable) return;\n",
              "\n",
              "          const docLinkHtml = 'Like what you see? Visit the ' +\n",
              "            '<a target=\"_blank\" href=https://colab.research.google.com/notebooks/data_table.ipynb>data table notebook</a>'\n",
              "            + ' to learn more about interactive tables.';\n",
              "          element.innerHTML = '';\n",
              "          dataTable['output_type'] = 'display_data';\n",
              "          await google.colab.output.renderOutput(dataTable, element);\n",
              "          const docLink = document.createElement('div');\n",
              "          docLink.innerHTML = docLinkHtml;\n",
              "          element.appendChild(docLink);\n",
              "        }\n",
              "      </script>\n",
              "    </div>\n",
              "  </div>\n",
              "  "
            ]
          },
          "metadata": {},
          "execution_count": 56
        }
      ]
    },
    {
      "cell_type": "code",
      "source": [
        "# group data by classification and calculate basic statistics for mse\n",
        "group_calculation = error_df_test[['mse','class']].groupby(\"class\").describe()\n",
        "group_calculation"
      ],
      "metadata": {
        "colab": {
          "base_uri": "https://localhost:8080/",
          "height": 175
        },
        "id": "bifwNgcQcokO",
        "outputId": "f2f84f3d-f06f-4b1c-a214-1a4e8059e80d"
      },
      "execution_count": 58,
      "outputs": [
        {
          "output_type": "execute_result",
          "data": {
            "text/plain": [
              "         mse                                                                  \\\n",
              "       count          mean           std         min         25%         50%   \n",
              "class                                                                          \n",
              "0       90.0  2.677078e+07  6.436666e+06  4008069.75  23276244.0  27340713.0   \n",
              "1      210.0  1.173675e+13  1.700813e+14  6084006.00  24262699.0  29150687.0   \n",
              "\n",
              "                                 \n",
              "              75%           max  \n",
              "class                            \n",
              "0      31615378.5  3.864628e+07  \n",
              "1      34098576.0  2.464713e+15  "
            ],
            "text/html": [
              "\n",
              "  <div id=\"df-ecd36a8f-3fe1-4aa0-84a2-5fc2638ff6f6\">\n",
              "    <div class=\"colab-df-container\">\n",
              "      <div>\n",
              "<style scoped>\n",
              "    .dataframe tbody tr th:only-of-type {\n",
              "        vertical-align: middle;\n",
              "    }\n",
              "\n",
              "    .dataframe tbody tr th {\n",
              "        vertical-align: top;\n",
              "    }\n",
              "\n",
              "    .dataframe thead tr th {\n",
              "        text-align: left;\n",
              "    }\n",
              "\n",
              "    .dataframe thead tr:last-of-type th {\n",
              "        text-align: right;\n",
              "    }\n",
              "</style>\n",
              "<table border=\"1\" class=\"dataframe\">\n",
              "  <thead>\n",
              "    <tr>\n",
              "      <th></th>\n",
              "      <th colspan=\"8\" halign=\"left\">mse</th>\n",
              "    </tr>\n",
              "    <tr>\n",
              "      <th></th>\n",
              "      <th>count</th>\n",
              "      <th>mean</th>\n",
              "      <th>std</th>\n",
              "      <th>min</th>\n",
              "      <th>25%</th>\n",
              "      <th>50%</th>\n",
              "      <th>75%</th>\n",
              "      <th>max</th>\n",
              "    </tr>\n",
              "    <tr>\n",
              "      <th>class</th>\n",
              "      <th></th>\n",
              "      <th></th>\n",
              "      <th></th>\n",
              "      <th></th>\n",
              "      <th></th>\n",
              "      <th></th>\n",
              "      <th></th>\n",
              "      <th></th>\n",
              "    </tr>\n",
              "  </thead>\n",
              "  <tbody>\n",
              "    <tr>\n",
              "      <th>0</th>\n",
              "      <td>90.0</td>\n",
              "      <td>2.677078e+07</td>\n",
              "      <td>6.436666e+06</td>\n",
              "      <td>4008069.75</td>\n",
              "      <td>23276244.0</td>\n",
              "      <td>27340713.0</td>\n",
              "      <td>31615378.5</td>\n",
              "      <td>3.864628e+07</td>\n",
              "    </tr>\n",
              "    <tr>\n",
              "      <th>1</th>\n",
              "      <td>210.0</td>\n",
              "      <td>1.173675e+13</td>\n",
              "      <td>1.700813e+14</td>\n",
              "      <td>6084006.00</td>\n",
              "      <td>24262699.0</td>\n",
              "      <td>29150687.0</td>\n",
              "      <td>34098576.0</td>\n",
              "      <td>2.464713e+15</td>\n",
              "    </tr>\n",
              "  </tbody>\n",
              "</table>\n",
              "</div>\n",
              "      <button class=\"colab-df-convert\" onclick=\"convertToInteractive('df-ecd36a8f-3fe1-4aa0-84a2-5fc2638ff6f6')\"\n",
              "              title=\"Convert this dataframe to an interactive table.\"\n",
              "              style=\"display:none;\">\n",
              "        \n",
              "  <svg xmlns=\"http://www.w3.org/2000/svg\" height=\"24px\"viewBox=\"0 0 24 24\"\n",
              "       width=\"24px\">\n",
              "    <path d=\"M0 0h24v24H0V0z\" fill=\"none\"/>\n",
              "    <path d=\"M18.56 5.44l.94 2.06.94-2.06 2.06-.94-2.06-.94-.94-2.06-.94 2.06-2.06.94zm-11 1L8.5 8.5l.94-2.06 2.06-.94-2.06-.94L8.5 2.5l-.94 2.06-2.06.94zm10 10l.94 2.06.94-2.06 2.06-.94-2.06-.94-.94-2.06-.94 2.06-2.06.94z\"/><path d=\"M17.41 7.96l-1.37-1.37c-.4-.4-.92-.59-1.43-.59-.52 0-1.04.2-1.43.59L10.3 9.45l-7.72 7.72c-.78.78-.78 2.05 0 2.83L4 21.41c.39.39.9.59 1.41.59.51 0 1.02-.2 1.41-.59l7.78-7.78 2.81-2.81c.8-.78.8-2.07 0-2.86zM5.41 20L4 18.59l7.72-7.72 1.47 1.35L5.41 20z\"/>\n",
              "  </svg>\n",
              "      </button>\n",
              "      \n",
              "  <style>\n",
              "    .colab-df-container {\n",
              "      display:flex;\n",
              "      flex-wrap:wrap;\n",
              "      gap: 12px;\n",
              "    }\n",
              "\n",
              "    .colab-df-convert {\n",
              "      background-color: #E8F0FE;\n",
              "      border: none;\n",
              "      border-radius: 50%;\n",
              "      cursor: pointer;\n",
              "      display: none;\n",
              "      fill: #1967D2;\n",
              "      height: 32px;\n",
              "      padding: 0 0 0 0;\n",
              "      width: 32px;\n",
              "    }\n",
              "\n",
              "    .colab-df-convert:hover {\n",
              "      background-color: #E2EBFA;\n",
              "      box-shadow: 0px 1px 2px rgba(60, 64, 67, 0.3), 0px 1px 3px 1px rgba(60, 64, 67, 0.15);\n",
              "      fill: #174EA6;\n",
              "    }\n",
              "\n",
              "    [theme=dark] .colab-df-convert {\n",
              "      background-color: #3B4455;\n",
              "      fill: #D2E3FC;\n",
              "    }\n",
              "\n",
              "    [theme=dark] .colab-df-convert:hover {\n",
              "      background-color: #434B5C;\n",
              "      box-shadow: 0px 1px 3px 1px rgba(0, 0, 0, 0.15);\n",
              "      filter: drop-shadow(0px 1px 2px rgba(0, 0, 0, 0.3));\n",
              "      fill: #FFFFFF;\n",
              "    }\n",
              "  </style>\n",
              "\n",
              "      <script>\n",
              "        const buttonEl =\n",
              "          document.querySelector('#df-ecd36a8f-3fe1-4aa0-84a2-5fc2638ff6f6 button.colab-df-convert');\n",
              "        buttonEl.style.display =\n",
              "          google.colab.kernel.accessAllowed ? 'block' : 'none';\n",
              "\n",
              "        async function convertToInteractive(key) {\n",
              "          const element = document.querySelector('#df-ecd36a8f-3fe1-4aa0-84a2-5fc2638ff6f6');\n",
              "          const dataTable =\n",
              "            await google.colab.kernel.invokeFunction('convertToInteractive',\n",
              "                                                     [key], {});\n",
              "          if (!dataTable) return;\n",
              "\n",
              "          const docLinkHtml = 'Like what you see? Visit the ' +\n",
              "            '<a target=\"_blank\" href=https://colab.research.google.com/notebooks/data_table.ipynb>data table notebook</a>'\n",
              "            + ' to learn more about interactive tables.';\n",
              "          element.innerHTML = '';\n",
              "          dataTable['output_type'] = 'display_data';\n",
              "          await google.colab.output.renderOutput(dataTable, element);\n",
              "          const docLink = document.createElement('div');\n",
              "          docLink.innerHTML = docLinkHtml;\n",
              "          element.appendChild(docLink);\n",
              "        }\n",
              "      </script>\n",
              "    </div>\n",
              "  </div>\n",
              "  "
            ]
          },
          "metadata": {},
          "execution_count": 58
        }
      ]
    },
    {
      "cell_type": "code",
      "source": [
        "# there appears to be an outlier so we'll remove that data and recalculate stats\n",
        "error_df_test = error_df_test[error_df_test['mse'] < 1.146474e+15]\n",
        "group_calculation = error_df_test[['mse','class']].groupby(\"class\").describe()\n",
        "group_calculation"
      ],
      "metadata": {
        "colab": {
          "base_uri": "https://localhost:8080/",
          "height": 175
        },
        "id": "Jr52RBhZtOeA",
        "outputId": "87bc3e88-68bd-4f42-c700-26371048cfaf"
      },
      "execution_count": 59,
      "outputs": [
        {
          "output_type": "execute_result",
          "data": {
            "text/plain": [
              "         mse                                                             \\\n",
              "       count        mean        std         min         25%         50%   \n",
              "class                                                                     \n",
              "0       90.0  26770776.0  6436665.5  4008069.75  23276244.0  27340713.0   \n",
              "1      209.0  28420316.0  7543768.5  6084006.00  24261532.0  29148872.0   \n",
              "\n",
              "                               \n",
              "              75%         max  \n",
              "class                          \n",
              "0      31615378.5  38646284.0  \n",
              "1      34073256.0  43893256.0  "
            ],
            "text/html": [
              "\n",
              "  <div id=\"df-9e911f76-dabf-4696-8fff-717787ff97a6\">\n",
              "    <div class=\"colab-df-container\">\n",
              "      <div>\n",
              "<style scoped>\n",
              "    .dataframe tbody tr th:only-of-type {\n",
              "        vertical-align: middle;\n",
              "    }\n",
              "\n",
              "    .dataframe tbody tr th {\n",
              "        vertical-align: top;\n",
              "    }\n",
              "\n",
              "    .dataframe thead tr th {\n",
              "        text-align: left;\n",
              "    }\n",
              "\n",
              "    .dataframe thead tr:last-of-type th {\n",
              "        text-align: right;\n",
              "    }\n",
              "</style>\n",
              "<table border=\"1\" class=\"dataframe\">\n",
              "  <thead>\n",
              "    <tr>\n",
              "      <th></th>\n",
              "      <th colspan=\"8\" halign=\"left\">mse</th>\n",
              "    </tr>\n",
              "    <tr>\n",
              "      <th></th>\n",
              "      <th>count</th>\n",
              "      <th>mean</th>\n",
              "      <th>std</th>\n",
              "      <th>min</th>\n",
              "      <th>25%</th>\n",
              "      <th>50%</th>\n",
              "      <th>75%</th>\n",
              "      <th>max</th>\n",
              "    </tr>\n",
              "    <tr>\n",
              "      <th>class</th>\n",
              "      <th></th>\n",
              "      <th></th>\n",
              "      <th></th>\n",
              "      <th></th>\n",
              "      <th></th>\n",
              "      <th></th>\n",
              "      <th></th>\n",
              "      <th></th>\n",
              "    </tr>\n",
              "  </thead>\n",
              "  <tbody>\n",
              "    <tr>\n",
              "      <th>0</th>\n",
              "      <td>90.0</td>\n",
              "      <td>26770776.0</td>\n",
              "      <td>6436665.5</td>\n",
              "      <td>4008069.75</td>\n",
              "      <td>23276244.0</td>\n",
              "      <td>27340713.0</td>\n",
              "      <td>31615378.5</td>\n",
              "      <td>38646284.0</td>\n",
              "    </tr>\n",
              "    <tr>\n",
              "      <th>1</th>\n",
              "      <td>209.0</td>\n",
              "      <td>28420316.0</td>\n",
              "      <td>7543768.5</td>\n",
              "      <td>6084006.00</td>\n",
              "      <td>24261532.0</td>\n",
              "      <td>29148872.0</td>\n",
              "      <td>34073256.0</td>\n",
              "      <td>43893256.0</td>\n",
              "    </tr>\n",
              "  </tbody>\n",
              "</table>\n",
              "</div>\n",
              "      <button class=\"colab-df-convert\" onclick=\"convertToInteractive('df-9e911f76-dabf-4696-8fff-717787ff97a6')\"\n",
              "              title=\"Convert this dataframe to an interactive table.\"\n",
              "              style=\"display:none;\">\n",
              "        \n",
              "  <svg xmlns=\"http://www.w3.org/2000/svg\" height=\"24px\"viewBox=\"0 0 24 24\"\n",
              "       width=\"24px\">\n",
              "    <path d=\"M0 0h24v24H0V0z\" fill=\"none\"/>\n",
              "    <path d=\"M18.56 5.44l.94 2.06.94-2.06 2.06-.94-2.06-.94-.94-2.06-.94 2.06-2.06.94zm-11 1L8.5 8.5l.94-2.06 2.06-.94-2.06-.94L8.5 2.5l-.94 2.06-2.06.94zm10 10l.94 2.06.94-2.06 2.06-.94-2.06-.94-.94-2.06-.94 2.06-2.06.94z\"/><path d=\"M17.41 7.96l-1.37-1.37c-.4-.4-.92-.59-1.43-.59-.52 0-1.04.2-1.43.59L10.3 9.45l-7.72 7.72c-.78.78-.78 2.05 0 2.83L4 21.41c.39.39.9.59 1.41.59.51 0 1.02-.2 1.41-.59l7.78-7.78 2.81-2.81c.8-.78.8-2.07 0-2.86zM5.41 20L4 18.59l7.72-7.72 1.47 1.35L5.41 20z\"/>\n",
              "  </svg>\n",
              "      </button>\n",
              "      \n",
              "  <style>\n",
              "    .colab-df-container {\n",
              "      display:flex;\n",
              "      flex-wrap:wrap;\n",
              "      gap: 12px;\n",
              "    }\n",
              "\n",
              "    .colab-df-convert {\n",
              "      background-color: #E8F0FE;\n",
              "      border: none;\n",
              "      border-radius: 50%;\n",
              "      cursor: pointer;\n",
              "      display: none;\n",
              "      fill: #1967D2;\n",
              "      height: 32px;\n",
              "      padding: 0 0 0 0;\n",
              "      width: 32px;\n",
              "    }\n",
              "\n",
              "    .colab-df-convert:hover {\n",
              "      background-color: #E2EBFA;\n",
              "      box-shadow: 0px 1px 2px rgba(60, 64, 67, 0.3), 0px 1px 3px 1px rgba(60, 64, 67, 0.15);\n",
              "      fill: #174EA6;\n",
              "    }\n",
              "\n",
              "    [theme=dark] .colab-df-convert {\n",
              "      background-color: #3B4455;\n",
              "      fill: #D2E3FC;\n",
              "    }\n",
              "\n",
              "    [theme=dark] .colab-df-convert:hover {\n",
              "      background-color: #434B5C;\n",
              "      box-shadow: 0px 1px 3px 1px rgba(0, 0, 0, 0.15);\n",
              "      filter: drop-shadow(0px 1px 2px rgba(0, 0, 0, 0.3));\n",
              "      fill: #FFFFFF;\n",
              "    }\n",
              "  </style>\n",
              "\n",
              "      <script>\n",
              "        const buttonEl =\n",
              "          document.querySelector('#df-9e911f76-dabf-4696-8fff-717787ff97a6 button.colab-df-convert');\n",
              "        buttonEl.style.display =\n",
              "          google.colab.kernel.accessAllowed ? 'block' : 'none';\n",
              "\n",
              "        async function convertToInteractive(key) {\n",
              "          const element = document.querySelector('#df-9e911f76-dabf-4696-8fff-717787ff97a6');\n",
              "          const dataTable =\n",
              "            await google.colab.kernel.invokeFunction('convertToInteractive',\n",
              "                                                     [key], {});\n",
              "          if (!dataTable) return;\n",
              "\n",
              "          const docLinkHtml = 'Like what you see? Visit the ' +\n",
              "            '<a target=\"_blank\" href=https://colab.research.google.com/notebooks/data_table.ipynb>data table notebook</a>'\n",
              "            + ' to learn more about interactive tables.';\n",
              "          element.innerHTML = '';\n",
              "          dataTable['output_type'] = 'display_data';\n",
              "          await google.colab.output.renderOutput(dataTable, element);\n",
              "          const docLink = document.createElement('div');\n",
              "          docLink.innerHTML = docLinkHtml;\n",
              "          element.appendChild(docLink);\n",
              "        }\n",
              "      </script>\n",
              "    </div>\n",
              "  </div>\n",
              "  "
            ]
          },
          "metadata": {},
          "execution_count": 59
        }
      ]
    },
    {
      "cell_type": "code",
      "source": [
        "# Create a ROC and Precision Curve to assess how well we can claassify based on mse\n",
        "\n",
        "from sklearn.metrics import confusion_matrix , roc_auc_score, roc_curve, auc, classification_report, average_precision_score, precision_recall_curve\n",
        "\n",
        "fpr, tpr, thresholds = roc_curve(error_df_test['class'], error_df_test['mse'])\n",
        "roc_auc = auc(fpr, tpr)\n",
        "\n",
        "precision, recall, thresholds = precision_recall_curve(error_df_test['class'], error_df_test['mse'])\n",
        "avg_pr = average_precision_score(error_df_test['class'], error_df_test['mse'])\n",
        "\n",
        "no_skill = len(error_df_test['class'][error_df_test['class']==1]) / len(error_df_test['class'])\n",
        "\n",
        "fig, axs = plt.subplots(1, 2, figsize=(15,10))\n",
        "axs[0].set_title('Receiver Operating Characteristic')\n",
        "axs[0].plot(fpr, tpr, label='AUC = %0.4f'% roc_auc)\n",
        "axs[0].legend(loc='lower right')\n",
        "axs[0].plot([0,1],[0,1],'r--')\n",
        "axs[0].set_xlim([-0.001, 1])\n",
        "axs[0].set_ylim([0, 1.001])\n",
        "axs[0].set_ylabel('True Positive Rate')\n",
        "axs[0].set_xlabel('False Positive Rate')\n",
        "\n",
        "axs[1].set_title('Precision-Recall Curve')\n",
        "axs[1].plot(recall, precision, label='Avg Precision = %0.4f'% avg_pr)\n",
        "axs[1].legend(loc='upper right')\n",
        "axs[1].plot([0, 1], [no_skill, no_skill], linestyle='--', label='No Skill')\n",
        "axs[1].set_xlim([-0.001, 1])\n",
        "axs[1].set_ylim([0, 1.001])\n",
        "axs[1].set_ylabel('Precision')\n",
        "axs[1].set_xlabel('Recall')\n",
        "plt.show();"
      ],
      "metadata": {
        "colab": {
          "base_uri": "https://localhost:8080/",
          "height": 621
        },
        "id": "_4vJ9xdeOlrH",
        "outputId": "8bb48d00-de15-4b00-85a2-54398987e815"
      },
      "execution_count": 60,
      "outputs": [
        {
          "output_type": "display_data",
          "data": {
            "text/plain": [
              "<Figure size 1080x720 with 2 Axes>"
            ],
            "image/png": "[encoded data removed]"
          },
          "metadata": {
            "needs_background": "light"
          }
        }
      ]
    },
    {
      "cell_type": "markdown",
      "source": [
        "AUC indicates that prediction is better than average overall, with a precision of .78 . So this method may have some validity"
      ],
      "metadata": {
        "id": "QGu07zQU16qC"
      }
    },
    {
      "cell_type": "code",
      "source": [
        "# Graph data to see if there is a clear threshold revealed between clasifiable non-classifiable images\n",
        "\n",
        "classifiable = error_df_test[(error_df_test['class'] == 1)].mse.values\n",
        "not_classifiable = error_df_test[(error_df_test['class'] == 0)].mse.values\n",
        "\n",
        "plt.hist(not_classifiable, bins=10, alpha=0.5, label='not usable')\n",
        "plt.hist(classifiable, bins=10, alpha=0.5, label='usable')\n",
        "plt.legend(loc='upper right')\n",
        "plt.show()\n"
      ],
      "metadata": {
        "colab": {
          "base_uri": "https://localhost:8080/",
          "height": 278
        },
        "id": "gd2RIwXfPRsS",
        "outputId": "8ba1c8d1-2ea6-4eec-daf9-5a70b8ca9ae8"
      },
      "execution_count": 61,
      "outputs": [
        {
          "output_type": "display_data",
          "data": {
            "text/plain": [
              "<Figure size 432x288 with 1 Axes>"
            ],
            "image/png": "[encoded data removed]"
          },
          "metadata": {
            "needs_background": "light"
          }
        }
      ]
    },
    {
      "cell_type": "markdown",
      "source": [
        "There is significant overlap except for data that has an mse higher than 3.8e7. We'll dig a bit deeper to determine what is the best threshold to use for both precision and recall when determining high quality images."
      ],
      "metadata": {
        "id": "s6JivJg32al2"
      }
    },
    {
      "cell_type": "code",
      "source": [
        "import warnings\n",
        "warnings.filterwarnings(\"ignore\")\n",
        "\n",
        "#Let's evaluate for best threshold using precision/recall measures\n",
        "precisions = []\n",
        "recalls = []\n",
        "\n",
        "for threshold in thresholds:\n",
        "  predictions = [1 if x > threshold else 0 for x in error_df_test[\"mse\"]]\n",
        "  classification = classification_report(error_df_test[\"class\"], predictions, output_dict=True)['1']\n",
        "  precisions.append(classification['precision'])\n",
        "  recalls.append(classification['recall'])\n",
        "\n",
        "plt.plot(thresholds, precisions, label=\"Precision\",linewidth=5)\n",
        "plt.plot(thresholds, recalls, label=\"Recall\",linewidth=5)\n",
        "plt.title('Precision vs. Recall by Threshold for Image Quality')\n",
        "plt.xlabel('Threshold')\n",
        "plt.ylabel('Precision/Recall')\n",
        "plt.legend()\n",
        "plt.show()"
      ],
      "metadata": {
        "colab": {
          "base_uri": "https://localhost:8080/",
          "height": 295
        },
        "id": "_HmTQMclVSPR",
        "outputId": "ef7dd482-6fcb-4782-ae2b-c19a5fac376b"
      },
      "execution_count": 73,
      "outputs": [
        {
          "output_type": "display_data",
          "data": {
            "text/plain": [
              "<Figure size 432x288 with 1 Axes>"
            ],
            "image/png": "[encoded data removed]"
          },
          "metadata": {
            "needs_background": "light"
          }
        }
      ]
    },
    {
      "cell_type": "markdown",
      "source": [
        "The optimal threshold to use for prediction is the point where both precision and recall are at it's best.  In reviewing the above chart this appears at approximately mse 2.5e7. For predictions we will use that to identify high quality images vs low quality and review the results"
      ],
      "metadata": {
        "id": "gJe-XBYN3SOO"
      }
    },
    {
      "cell_type": "code",
      "source": [
        "predictions = [1 if x > 2.5e+07 else 0 for x in error_df_test[\"mse\"]]"
      ],
      "metadata": {
        "id": "mTNvuRKQTX0w"
      },
      "execution_count": 68,
      "outputs": []
    },
    {
      "cell_type": "code",
      "source": [
        "import seaborn as sns\n",
        "labels = [\"Not Usable\",\"Usable\"]\n",
        "conf_matrix = confusion_matrix(error_df_test['class'],predictions)\n",
        "plt.figure(figsize=(8, 8))\n",
        "sns.heatmap(conf_matrix, xticklabels=labels, yticklabels=labels, annot=True, fmt=\"d\");\n",
        "plt.title(\"Image Quality Confusion Matrix\")\n",
        "plt.ylabel('True')\n",
        "plt.xlabel('Prediction')\n",
        "plt.show()"
      ],
      "metadata": {
        "colab": {
          "base_uri": "https://localhost:8080/",
          "height": 513
        },
        "id": "49ZaCZ7BT7Kp",
        "outputId": "ea142a20-b54c-4295-ce2a-2782bcb54d9c"
      },
      "execution_count": 69,
      "outputs": [
        {
          "output_type": "display_data",
          "data": {
            "text/plain": [
              "<Figure size 576x576 with 2 Axes>"
            ],
            "image/png": "[encoded data removed]"
          },
          "metadata": {
            "needs_background": "light"
          }
        }
      ]
    },
    {
      "cell_type": "code",
      "source": [
        "print(classification_report(error_df_test[\"class\"], predictions))"
      ],
      "metadata": {
        "colab": {
          "base_uri": "https://localhost:8080/"
        },
        "id": "-_MKEO-ZUDCf",
        "outputId": "27ab9693-f3bf-41d4-d829-7b5556a43b00"
      },
      "execution_count": 70,
      "outputs": [
        {
          "output_type": "stream",
          "name": "stdout",
          "text": [
            "              precision    recall  f1-score   support\n",
            "\n",
            "           0       0.36      0.39      0.38        90\n",
            "           1       0.73      0.71      0.72       209\n",
            "\n",
            "    accuracy                           0.61       299\n",
            "   macro avg       0.55      0.55      0.55       299\n",
            "weighted avg       0.62      0.61      0.62       299\n",
            "\n"
          ]
        }
      ]
    },
    {
      "cell_type": "markdown",
      "source": [
        "The overall accuracy in this method is 61% accuracy in determining whether something is truly classifiable or not.  F1 Scores indicate it is better at determining when something is high quality vs not.\n",
        " "
      ],
      "metadata": {
        "id": "w4nKE6Or3xev"
      }
    },
    {
      "cell_type": "code",
      "source": [],
      "metadata": {
        "id": "h8FW-3wU8rEO"
      },
      "execution_count": null,
      "outputs": []
    }
  ]
}